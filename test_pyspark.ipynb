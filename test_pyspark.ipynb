{
  "nbformat": 4,
  "nbformat_minor": 0,
  "metadata": {
    "colab": {
      "name": "test_pyspark.ipynb",
      "provenance": [],
      "collapsed_sections": [],
      "authorship_tag": "ABX9TyM34jyNgsMUCKPHm9j3Hrj8",
      "include_colab_link": true
    },
    "kernelspec": {
      "name": "python3",
      "display_name": "Python 3"
    },
    "language_info": {
      "name": "python"
    }
  },
  "cells": [
    {
      "cell_type": "markdown",
      "metadata": {
        "id": "view-in-github",
        "colab_type": "text"
      },
      "source": [
        "<a href=\"https://colab.research.google.com/github/kenpurin/pyspark/blob/main/test_pyspark.ipynb\" target=\"_parent\"><img src=\"https://colab.research.google.com/assets/colab-badge.svg\" alt=\"Open In Colab\"/></a>"
      ]
    },
    {
      "cell_type": "code",
      "source": [
        "!pip install pyspark\n"
      ],
      "metadata": {
        "colab": {
          "base_uri": "https://localhost:8080/"
        },
        "id": "whGps-Bw8ZuE",
        "outputId": "d15024f9-cd3e-4911-82a0-b53823e20573"
      },
      "execution_count": 29,
      "outputs": [
        {
          "output_type": "stream",
          "name": "stdout",
          "text": [
            "Looking in indexes: https://pypi.org/simple, https://us-python.pkg.dev/colab-wheels/public/simple/\n",
            "Requirement already satisfied: pyspark in /usr/local/lib/python3.7/dist-packages (3.3.0)\n",
            "Requirement already satisfied: py4j==0.10.9.5 in /usr/local/lib/python3.7/dist-packages (from pyspark) (0.10.9.5)\n"
          ]
        }
      ]
    },
    {
      "cell_type": "code",
      "execution_count": 30,
      "metadata": {
        "id": "n1_J1oFG8RC9"
      },
      "outputs": [],
      "source": [
        "from pyspark import SparkContext\n",
        "sc = SparkContext.getOrCreate()"
      ]
    },
    {
      "cell_type": "code",
      "source": [
        "from pyspark.sql import SparkSession\n",
        "# ในกรณีที่ไม่มี spark context อยู่ก่อนแล้ว เราก็สร้างใหม่\n",
        "if (sc is None):\n",
        "    sc = SparkContext(master=\"local[*]\")\n",
        "\n",
        "spark = SparkSession(sparkContext=sc)\\\n",
        "        .builder\\\n",
        "        .appName(\"How to Spark\")\\\n",
        "        .config(\"spark.some.config.option\", \"some-value\") \\\n",
        "        .getOrCreate()"
      ],
      "metadata": {
        "id": "oOcuNjMd8sV4"
      },
      "execution_count": 31,
      "outputs": []
    },
    {
      "cell_type": "code",
      "source": [
        "sc"
      ],
      "metadata": {
        "colab": {
          "base_uri": "https://localhost:8080/",
          "height": 196
        },
        "id": "nOEioC1wVwBY",
        "outputId": "bb51812b-4e6b-46f5-ea2c-a5ce8bfd2f73"
      },
      "execution_count": 33,
      "outputs": [
        {
          "output_type": "execute_result",
          "data": {
            "text/plain": [
              "<SparkContext master=local[*] appName=pyspark-shell>"
            ],
            "text/html": [
              "\n",
              "        <div>\n",
              "            <p><b>SparkContext</b></p>\n",
              "\n",
              "            <p><a href=\"http://f8310a04005d:4040\">Spark UI</a></p>\n",
              "\n",
              "            <dl>\n",
              "              <dt>Version</dt>\n",
              "                <dd><code>v3.3.0</code></dd>\n",
              "              <dt>Master</dt>\n",
              "                <dd><code>local[*]</code></dd>\n",
              "              <dt>AppName</dt>\n",
              "                <dd><code>pyspark-shell</code></dd>\n",
              "            </dl>\n",
              "        </div>\n",
              "        "
            ]
          },
          "metadata": {},
          "execution_count": 33
        }
      ]
    },
    {
      "cell_type": "code",
      "source": [
        "sc.version"
      ],
      "metadata": {
        "colab": {
          "base_uri": "https://localhost:8080/",
          "height": 36
        },
        "id": "Qr2tZTltVsNI",
        "outputId": "bd046ea6-e63f-4741-d49b-8d7f5988c45c"
      },
      "execution_count": 32,
      "outputs": [
        {
          "output_type": "execute_result",
          "data": {
            "text/plain": [
              "'3.3.0'"
            ],
            "application/vnd.google.colaboratory.intrinsic+json": {
              "type": "string"
            }
          },
          "metadata": {},
          "execution_count": 32
        }
      ]
    },
    {
      "cell_type": "code",
      "source": [
        "#get data test\n",
        "!git clone https://github.com/codeforamerica/ohana-api.git"
      ],
      "metadata": {
        "colab": {
          "base_uri": "https://localhost:8080/"
        },
        "id": "SmLk865l8twZ",
        "outputId": "120423b9-65db-401d-b5aa-bc1d49c72cf0"
      },
      "execution_count": 34,
      "outputs": [
        {
          "output_type": "stream",
          "name": "stdout",
          "text": [
            "fatal: destination path 'ohana-api' already exists and is not an empty directory.\n"
          ]
        }
      ]
    },
    {
      "cell_type": "code",
      "source": [
        "#/content/ohana-api/data/sample-csv/taxonomy.csv\n",
        "mtcars_rdd = sc.textFile('/content/ohana-api/data/sample-csv/taxonomy.csv')"
      ],
      "metadata": {
        "id": "-uxB5LDJ87uD"
      },
      "execution_count": 35,
      "outputs": []
    },
    {
      "cell_type": "code",
      "source": [
        "df = spark.read.csv('/content/ohana-api/data/sample-csv/taxonomy.csv', header=True, inferSchema=True)"
      ],
      "metadata": {
        "id": "B_qvhE6J9EzO"
      },
      "execution_count": 36,
      "outputs": []
    },
    {
      "cell_type": "code",
      "source": [
        "df.dtypes"
      ],
      "metadata": {
        "colab": {
          "base_uri": "https://localhost:8080/"
        },
        "id": "E0khenyY9bbO",
        "outputId": "ee9ad8d7-6170-427f-e4f0-f7e4459ddd35"
      },
      "execution_count": 37,
      "outputs": [
        {
          "output_type": "execute_result",
          "data": {
            "text/plain": [
              "[('taxonomy_id', 'string'),\n",
              " ('name', 'string'),\n",
              " ('parent_id', 'string'),\n",
              " ('parent_name', 'string')]"
            ]
          },
          "metadata": {},
          "execution_count": 37
        }
      ]
    },
    {
      "cell_type": "code",
      "source": [
        "df.show()"
      ],
      "metadata": {
        "colab": {
          "base_uri": "https://localhost:8080/"
        },
        "id": "QINCgxnJ-UBp",
        "outputId": "0ce653ac-2bb9-43d6-cc52-6a444e049d00"
      },
      "execution_count": 38,
      "outputs": [
        {
          "output_type": "stream",
          "name": "stdout",
          "text": [
            "+-----------+--------------------+---------+----------------+\n",
            "|taxonomy_id|                name|parent_id|     parent_name|\n",
            "+-----------+--------------------+---------+----------------+\n",
            "|        101|           Emergency|     null|            null|\n",
            "|     101-01|   Disaster Response|      101|       Emergency|\n",
            "|     101-02|      Emergency Cash|      101|       Emergency|\n",
            "|  101-02-01|   Help Pay for Food|   101-02|  Emergency Cash|\n",
            "|  101-02-02|Help Pay for Heal...|   101-02|  Emergency Cash|\n",
            "|  101-02-03|Help Pay for Housing|   101-02|  Emergency Cash|\n",
            "|  101-02-04|    Help Pay for Gas|   101-02|  Emergency Cash|\n",
            "|  101-02-05| Help Pay for School|   101-02|  Emergency Cash|\n",
            "|  101-02-06|Help Pay for Util...|   101-02|  Emergency Cash|\n",
            "|     101-03|      Emergency Food|      101|       Emergency|\n",
            "|     101-04|   Emergency Shelter|      101|       Emergency|\n",
            "|     101-05|Help Find Missing...|      101|       Emergency|\n",
            "|     101-06|    Immediate Safety|      101|       Emergency|\n",
            "|  101-06-01|Help Escape Violence|   101-06|Immediate Safety|\n",
            "|  101-06-02|        Safe Housing|   101-06|Immediate Safety|\n",
            "|     101-07|Psychiatric Emerg...|      101|       Emergency|\n",
            "|        102|                Food|     null|            null|\n",
            "|     102-01|   Community Gardens|      102|            Food|\n",
            "|     102-02|      Emergency Food|      102|            Food|\n",
            "|     102-03|       Food Delivery|      102|            Food|\n",
            "+-----------+--------------------+---------+----------------+\n",
            "only showing top 20 rows\n",
            "\n"
          ]
        }
      ]
    },
    {
      "cell_type": "code",
      "source": [
        "df.head(10)"
      ],
      "metadata": {
        "colab": {
          "base_uri": "https://localhost:8080/"
        },
        "id": "Uswwo9la-x9W",
        "outputId": "abafd307-fd79-48c4-c463-23a16fc30cf2"
      },
      "execution_count": 39,
      "outputs": [
        {
          "output_type": "execute_result",
          "data": {
            "text/plain": [
              "[Row(taxonomy_id='101', name='Emergency', parent_id=None, parent_name=None),\n",
              " Row(taxonomy_id='101-01', name='Disaster Response', parent_id='101', parent_name='Emergency'),\n",
              " Row(taxonomy_id='101-02', name='Emergency Cash', parent_id='101', parent_name='Emergency'),\n",
              " Row(taxonomy_id='101-02-01', name='Help Pay for Food', parent_id='101-02', parent_name='Emergency Cash'),\n",
              " Row(taxonomy_id='101-02-02', name='Help Pay for Healthcare', parent_id='101-02', parent_name='Emergency Cash'),\n",
              " Row(taxonomy_id='101-02-03', name='Help Pay for Housing', parent_id='101-02', parent_name='Emergency Cash'),\n",
              " Row(taxonomy_id='101-02-04', name='Help Pay for Gas', parent_id='101-02', parent_name='Emergency Cash'),\n",
              " Row(taxonomy_id='101-02-05', name='Help Pay for School', parent_id='101-02', parent_name='Emergency Cash'),\n",
              " Row(taxonomy_id='101-02-06', name='Help Pay for Utilities', parent_id='101-02', parent_name='Emergency Cash'),\n",
              " Row(taxonomy_id='101-03', name='Emergency Food', parent_id='101', parent_name='Emergency')]"
            ]
          },
          "metadata": {},
          "execution_count": 39
        }
      ]
    },
    {
      "cell_type": "code",
      "source": [
        "df.first()"
      ],
      "metadata": {
        "colab": {
          "base_uri": "https://localhost:8080/"
        },
        "id": "iSERskay-1Gx",
        "outputId": "ae9e5d5d-91e0-4b9e-c557-09a477bf970c"
      },
      "execution_count": 40,
      "outputs": [
        {
          "output_type": "execute_result",
          "data": {
            "text/plain": [
              "Row(taxonomy_id='101', name='Emergency', parent_id=None, parent_name=None)"
            ]
          },
          "metadata": {},
          "execution_count": 40
        }
      ]
    },
    {
      "cell_type": "code",
      "source": [
        "df.take(2)"
      ],
      "metadata": {
        "colab": {
          "base_uri": "https://localhost:8080/"
        },
        "id": "4R4iutIc-4ky",
        "outputId": "fb7fe4eb-b5f9-4f68-c0ff-a6092092aa8e"
      },
      "execution_count": 41,
      "outputs": [
        {
          "output_type": "execute_result",
          "data": {
            "text/plain": [
              "[Row(taxonomy_id='101', name='Emergency', parent_id=None, parent_name=None),\n",
              " Row(taxonomy_id='101-01', name='Disaster Response', parent_id='101', parent_name='Emergency')]"
            ]
          },
          "metadata": {},
          "execution_count": 41
        }
      ]
    },
    {
      "cell_type": "code",
      "source": [
        "df.printSchema()"
      ],
      "metadata": {
        "colab": {
          "base_uri": "https://localhost:8080/"
        },
        "id": "_TVFRD8p-mpo",
        "outputId": "f88bf9d1-f6c4-4bcc-d9f6-09640b2ac45e"
      },
      "execution_count": 42,
      "outputs": [
        {
          "output_type": "stream",
          "name": "stdout",
          "text": [
            "root\n",
            " |-- taxonomy_id: string (nullable = true)\n",
            " |-- name: string (nullable = true)\n",
            " |-- parent_id: string (nullable = true)\n",
            " |-- parent_name: string (nullable = true)\n",
            "\n"
          ]
        }
      ]
    },
    {
      "cell_type": "code",
      "source": [
        "df.describe().show() "
      ],
      "metadata": {
        "colab": {
          "base_uri": "https://localhost:8080/"
        },
        "id": "ZuufVMa0-9sd",
        "outputId": "c2bda16b-24fb-4d0b-a91e-abe97abf1ec0"
      },
      "execution_count": 43,
      "outputs": [
        {
          "output_type": "stream",
          "name": "stdout",
          "text": [
            "+-------+---------------+----------------+------------------+--------------------+\n",
            "|summary|    taxonomy_id|            name|         parent_id|         parent_name|\n",
            "+-------+---------------+----------------+------------------+--------------------+\n",
            "|  count|            290|             290|               279|                 279|\n",
            "|   mean|          106.0|            null|105.86666666666666|                null|\n",
            "| stddev|3.3166247903554|            null| 3.306217392478572|                null|\n",
            "|    min|            101|         12-Step|               101|Addiction & Recovery|\n",
            "|    max|         111-05|Workplace Rights|         111-01-01|                Work|\n",
            "+-------+---------------+----------------+------------------+--------------------+\n",
            "\n"
          ]
        }
      ]
    },
    {
      "cell_type": "code",
      "source": [
        "df.describe(['taxonomy_id']).show()"
      ],
      "metadata": {
        "colab": {
          "base_uri": "https://localhost:8080/"
        },
        "id": "rp6fMHxz_E2W",
        "outputId": "29104606-66a9-4bbd-81b9-c77228ed2ba5"
      },
      "execution_count": 44,
      "outputs": [
        {
          "output_type": "stream",
          "name": "stdout",
          "text": [
            "+-------+---------------+\n",
            "|summary|    taxonomy_id|\n",
            "+-------+---------------+\n",
            "|  count|            290|\n",
            "|   mean|          106.0|\n",
            "| stddev|3.3166247903554|\n",
            "|    min|            101|\n",
            "|    max|         111-05|\n",
            "+-------+---------------+\n",
            "\n"
          ]
        }
      ]
    },
    {
      "cell_type": "code",
      "source": [
        "df.columns "
      ],
      "metadata": {
        "colab": {
          "base_uri": "https://localhost:8080/"
        },
        "id": "lAWRgOmK_HnL",
        "outputId": "6233dfae-3be1-4c5b-c32f-52b5494de806"
      },
      "execution_count": 45,
      "outputs": [
        {
          "output_type": "execute_result",
          "data": {
            "text/plain": [
              "['taxonomy_id', 'name', 'parent_id', 'parent_name']"
            ]
          },
          "metadata": {},
          "execution_count": 45
        }
      ]
    },
    {
      "cell_type": "code",
      "source": [
        "df.count() "
      ],
      "metadata": {
        "colab": {
          "base_uri": "https://localhost:8080/"
        },
        "id": "iqvaDECQ_NxS",
        "outputId": "d9529bb9-67a9-48eb-d3a0-e9329a04470a"
      },
      "execution_count": 46,
      "outputs": [
        {
          "output_type": "execute_result",
          "data": {
            "text/plain": [
              "290"
            ]
          },
          "metadata": {},
          "execution_count": 46
        }
      ]
    },
    {
      "cell_type": "code",
      "source": [
        "spark.stop()"
      ],
      "metadata": {
        "id": "A3KDDYvbBBPP"
      },
      "execution_count": 47,
      "outputs": []
    }
  ]
}