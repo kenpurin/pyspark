{
  "nbformat": 4,
  "nbformat_minor": 0,
  "metadata": {
    "colab": {
      "name": "test_pyspark.ipynb",
      "provenance": [],
      "collapsed_sections": [],
      "authorship_tag": "ABX9TyPWz2zRoIO3EhVqYrghdSJi",
      "include_colab_link": true
    },
    "kernelspec": {
      "name": "python3",
      "display_name": "Python 3"
    },
    "language_info": {
      "name": "python"
    }
  },
  "cells": [
    {
      "cell_type": "markdown",
      "metadata": {
        "id": "view-in-github",
        "colab_type": "text"
      },
      "source": [
        "<a href=\"https://colab.research.google.com/github/kenpurin/pyspark/blob/main/test_pyspark.ipynb\" target=\"_parent\"><img src=\"https://colab.research.google.com/assets/colab-badge.svg\" alt=\"Open In Colab\"/></a>"
      ]
    },
    {
      "cell_type": "code",
      "source": [
        "!pip install pyspark\n"
      ],
      "metadata": {
        "colab": {
          "base_uri": "https://localhost:8080/"
        },
        "id": "whGps-Bw8ZuE",
        "outputId": "b99d5c89-ab54-458b-9b82-a202a0d989d7"
      },
      "execution_count": 2,
      "outputs": [
        {
          "output_type": "stream",
          "name": "stdout",
          "text": [
            "Looking in indexes: https://pypi.org/simple, https://us-python.pkg.dev/colab-wheels/public/simple/\n",
            "Collecting pyspark\n",
            "  Downloading pyspark-3.3.0.tar.gz (281.3 MB)\n",
            "\u001b[K     |████████████████████████████████| 281.3 MB 44 kB/s \n",
            "\u001b[?25hCollecting py4j==0.10.9.5\n",
            "  Downloading py4j-0.10.9.5-py2.py3-none-any.whl (199 kB)\n",
            "\u001b[K     |████████████████████████████████| 199 kB 48.6 MB/s \n",
            "\u001b[?25hBuilding wheels for collected packages: pyspark\n",
            "  Building wheel for pyspark (setup.py) ... \u001b[?25l\u001b[?25hdone\n",
            "  Created wheel for pyspark: filename=pyspark-3.3.0-py2.py3-none-any.whl size=281764026 sha256=ec2f735df1889155c55e2ab5a3179a90fcf914a047e5f829f397ca7ddc59dc89\n",
            "  Stored in directory: /root/.cache/pip/wheels/7a/8e/1b/f73a52650d2e5f337708d9f6a1750d451a7349a867f928b885\n",
            "Successfully built pyspark\n",
            "Installing collected packages: py4j, pyspark\n",
            "Successfully installed py4j-0.10.9.5 pyspark-3.3.0\n"
          ]
        }
      ]
    },
    {
      "cell_type": "code",
      "execution_count": 3,
      "metadata": {
        "id": "n1_J1oFG8RC9"
      },
      "outputs": [],
      "source": [
        "from pyspark import SparkContext\n",
        "sc = SparkContext.getOrCreate()"
      ]
    },
    {
      "cell_type": "code",
      "source": [
        "from pyspark.sql import SparkSession\n",
        "# ในกรณีที่ไม่มี spark context อยู่ก่อนแล้ว เราก็สร้างใหม่\n",
        "if (sc is None):\n",
        "    sc = SparkContext(master=\"local[*]\")\n",
        "\n",
        "spark = SparkSession(sparkContext=sc)\\\n",
        "        .builder\\\n",
        "        .appName(\"How to Spark\")\\\n",
        "        .config(\"spark.some.config.option\", \"some-value\") \\\n",
        "        .getOrCreate()"
      ],
      "metadata": {
        "id": "oOcuNjMd8sV4"
      },
      "execution_count": 4,
      "outputs": []
    },
    {
      "cell_type": "code",
      "source": [
        "#get data test\n",
        "!git clone https://github.com/codeforamerica/ohana-api.git"
      ],
      "metadata": {
        "colab": {
          "base_uri": "https://localhost:8080/"
        },
        "id": "SmLk865l8twZ",
        "outputId": "3b87fba6-3d9d-42ba-f78f-dd9a37f56d04"
      },
      "execution_count": 5,
      "outputs": [
        {
          "output_type": "stream",
          "name": "stdout",
          "text": [
            "Cloning into 'ohana-api'...\n",
            "remote: Enumerating objects: 14334, done.\u001b[K\n",
            "remote: Counting objects: 100% (903/903), done.\u001b[K\n",
            "remote: Compressing objects: 100% (431/431), done.\u001b[K\n",
            "remote: Total 14334 (delta 488), reused 804 (delta 455), pack-reused 13431\u001b[K\n",
            "Receiving objects: 100% (14334/14334), 6.19 MiB | 14.67 MiB/s, done.\n",
            "Resolving deltas: 100% (9575/9575), done.\n"
          ]
        }
      ]
    },
    {
      "cell_type": "code",
      "source": [
        "#/content/ohana-api/data/sample-csv/taxonomy.csv\n",
        "mtcars_rdd = sc.textFile('/content/ohana-api/data/sample-csv/taxonomy.csv')"
      ],
      "metadata": {
        "id": "-uxB5LDJ87uD"
      },
      "execution_count": 6,
      "outputs": []
    },
    {
      "cell_type": "code",
      "source": [
        "df = spark.read.csv('/content/ohana-api/data/sample-csv/taxonomy.csv', header=True, inferSchema=True)"
      ],
      "metadata": {
        "id": "B_qvhE6J9EzO"
      },
      "execution_count": 14,
      "outputs": []
    },
    {
      "cell_type": "code",
      "source": [
        "df.dtypes"
      ],
      "metadata": {
        "colab": {
          "base_uri": "https://localhost:8080/"
        },
        "id": "E0khenyY9bbO",
        "outputId": "992fef79-212d-4cf3-db00-d5c8ad1d398b"
      },
      "execution_count": 15,
      "outputs": [
        {
          "output_type": "execute_result",
          "data": {
            "text/plain": [
              "[('taxonomy_id', 'string'),\n",
              " ('name', 'string'),\n",
              " ('parent_id', 'string'),\n",
              " ('parent_name', 'string')]"
            ]
          },
          "metadata": {},
          "execution_count": 15
        }
      ]
    },
    {
      "cell_type": "code",
      "source": [
        "df.show()"
      ],
      "metadata": {
        "colab": {
          "base_uri": "https://localhost:8080/"
        },
        "id": "QINCgxnJ-UBp",
        "outputId": "4de0a0ae-434e-4661-c878-a265467ad968"
      },
      "execution_count": 16,
      "outputs": [
        {
          "output_type": "stream",
          "name": "stdout",
          "text": [
            "+-----------+--------------------+---------+----------------+\n",
            "|taxonomy_id|                name|parent_id|     parent_name|\n",
            "+-----------+--------------------+---------+----------------+\n",
            "|        101|           Emergency|     null|            null|\n",
            "|     101-01|   Disaster Response|      101|       Emergency|\n",
            "|     101-02|      Emergency Cash|      101|       Emergency|\n",
            "|  101-02-01|   Help Pay for Food|   101-02|  Emergency Cash|\n",
            "|  101-02-02|Help Pay for Heal...|   101-02|  Emergency Cash|\n",
            "|  101-02-03|Help Pay for Housing|   101-02|  Emergency Cash|\n",
            "|  101-02-04|    Help Pay for Gas|   101-02|  Emergency Cash|\n",
            "|  101-02-05| Help Pay for School|   101-02|  Emergency Cash|\n",
            "|  101-02-06|Help Pay for Util...|   101-02|  Emergency Cash|\n",
            "|     101-03|      Emergency Food|      101|       Emergency|\n",
            "|     101-04|   Emergency Shelter|      101|       Emergency|\n",
            "|     101-05|Help Find Missing...|      101|       Emergency|\n",
            "|     101-06|    Immediate Safety|      101|       Emergency|\n",
            "|  101-06-01|Help Escape Violence|   101-06|Immediate Safety|\n",
            "|  101-06-02|        Safe Housing|   101-06|Immediate Safety|\n",
            "|     101-07|Psychiatric Emerg...|      101|       Emergency|\n",
            "|        102|                Food|     null|            null|\n",
            "|     102-01|   Community Gardens|      102|            Food|\n",
            "|     102-02|      Emergency Food|      102|            Food|\n",
            "|     102-03|       Food Delivery|      102|            Food|\n",
            "+-----------+--------------------+---------+----------------+\n",
            "only showing top 20 rows\n",
            "\n"
          ]
        }
      ]
    }
  ]
}