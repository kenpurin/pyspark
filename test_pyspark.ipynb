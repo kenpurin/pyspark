{
  "nbformat": 4,
  "nbformat_minor": 0,
  "metadata": {
    "colab": {
      "name": "test_pyspark.ipynb",
      "provenance": [],
      "collapsed_sections": [],
      "toc_visible": true,
      "authorship_tag": "ABX9TyOjPyy/JUYIiTuqzR3rmUM2",
      "include_colab_link": true
    },
    "kernelspec": {
      "name": "python3",
      "display_name": "Python 3"
    },
    "language_info": {
      "name": "python"
    }
  },
  "cells": [
    {
      "cell_type": "markdown",
      "metadata": {
        "id": "view-in-github",
        "colab_type": "text"
      },
      "source": [
        "<a href=\"https://colab.research.google.com/github/kenpurin/pyspark/blob/main/test_pyspark.ipynb\" target=\"_parent\"><img src=\"https://colab.research.google.com/assets/colab-badge.svg\" alt=\"Open In Colab\"/></a>"
      ]
    },
    {
      "cell_type": "code",
      "source": [
        "import time"
      ],
      "metadata": {
        "id": "Yp09NYFCqfTw"
      },
      "execution_count": 3,
      "outputs": []
    },
    {
      "cell_type": "code",
      "source": [
        "start_time=time.time()\n",
        "!pip install pyspark\n",
        "print(\"--- %s seconds ---\" %(time.time()-start_time))"
      ],
      "metadata": {
        "colab": {
          "base_uri": "https://localhost:8080/"
        },
        "id": "whGps-Bw8ZuE",
        "outputId": "c94af18e-6017-4b1e-ab87-0a6b2775a630"
      },
      "execution_count": 8,
      "outputs": [
        {
          "output_type": "stream",
          "name": "stdout",
          "text": [
            "Looking in indexes: https://pypi.org/simple, https://us-python.pkg.dev/colab-wheels/public/simple/\n",
            "Requirement already satisfied: pyspark in /usr/local/lib/python3.7/dist-packages (3.3.0)\n",
            "Requirement already satisfied: py4j==0.10.9.5 in /usr/local/lib/python3.7/dist-packages (from pyspark) (0.10.9.5)\n",
            "--- 4.549505710601807 seconds ---\n"
          ]
        }
      ]
    },
    {
      "cell_type": "code",
      "execution_count": 9,
      "metadata": {
        "id": "n1_J1oFG8RC9"
      },
      "outputs": [],
      "source": [
        "from pyspark import SparkContext\n",
        "sc = SparkContext.getOrCreate()"
      ]
    },
    {
      "cell_type": "code",
      "source": [
        "start_time=time.time()\n",
        "from pyspark.sql import SparkSession\n",
        "# ในกรณีที่ไม่มี spark context อยู่ก่อนแล้ว เราก็สร้างใหม่\n",
        "if (sc is None):\n",
        "    sc = SparkContext(master=\"local[*]\")\n",
        "\n",
        "spark = SparkSession(sparkContext=sc)\\\n",
        "        .builder\\\n",
        "        .appName(\"How to Spark\")\\\n",
        "        .config(\"spark.some.config.option\", \"some-value\") \\\n",
        "        .getOrCreate()\n",
        "\n",
        "print(\"--- %s seconds ---\" %(time.time()-start_time))"
      ],
      "metadata": {
        "id": "oOcuNjMd8sV4",
        "colab": {
          "base_uri": "https://localhost:8080/"
        },
        "outputId": "f684b5fc-ec3b-4dd8-cb07-237cc1310e11"
      },
      "execution_count": 10,
      "outputs": [
        {
          "output_type": "stream",
          "name": "stdout",
          "text": [
            "--- 1.5707650184631348 seconds ---\n"
          ]
        }
      ]
    },
    {
      "cell_type": "code",
      "source": [
        "sc"
      ],
      "metadata": {
        "colab": {
          "base_uri": "https://localhost:8080/",
          "height": 196
        },
        "id": "nOEioC1wVwBY",
        "outputId": "efe18a83-51de-4f93-8cb0-a85db42680c1"
      },
      "execution_count": 11,
      "outputs": [
        {
          "output_type": "execute_result",
          "data": {
            "text/plain": [
              "<SparkContext master=local[*] appName=pyspark-shell>"
            ],
            "text/html": [
              "\n",
              "        <div>\n",
              "            <p><b>SparkContext</b></p>\n",
              "\n",
              "            <p><a href=\"http://b24e92f4dccf:4040\">Spark UI</a></p>\n",
              "\n",
              "            <dl>\n",
              "              <dt>Version</dt>\n",
              "                <dd><code>v3.3.0</code></dd>\n",
              "              <dt>Master</dt>\n",
              "                <dd><code>local[*]</code></dd>\n",
              "              <dt>AppName</dt>\n",
              "                <dd><code>pyspark-shell</code></dd>\n",
              "            </dl>\n",
              "        </div>\n",
              "        "
            ]
          },
          "metadata": {},
          "execution_count": 11
        }
      ]
    },
    {
      "cell_type": "code",
      "source": [
        "sc.version"
      ],
      "metadata": {
        "colab": {
          "base_uri": "https://localhost:8080/",
          "height": 36
        },
        "id": "Qr2tZTltVsNI",
        "outputId": "2b79543a-2c3a-4acb-bce9-c456d6ff9079"
      },
      "execution_count": 12,
      "outputs": [
        {
          "output_type": "execute_result",
          "data": {
            "text/plain": [
              "'3.3.0'"
            ],
            "application/vnd.google.colaboratory.intrinsic+json": {
              "type": "string"
            }
          },
          "metadata": {},
          "execution_count": 12
        }
      ]
    },
    {
      "cell_type": "code",
      "source": [
        "#get data test\n",
        "!git clone https://github.com/codeforamerica/ohana-api.git"
      ],
      "metadata": {
        "colab": {
          "base_uri": "https://localhost:8080/"
        },
        "id": "SmLk865l8twZ",
        "outputId": "ae6e3c0c-74ae-4f77-dd28-8d7e3bc1bad9"
      },
      "execution_count": 13,
      "outputs": [
        {
          "output_type": "stream",
          "name": "stdout",
          "text": [
            "Cloning into 'ohana-api'...\n",
            "remote: Enumerating objects: 14334, done.\u001b[K\n",
            "remote: Counting objects: 100% (903/903), done.\u001b[K\n",
            "remote: Compressing objects: 100% (431/431), done.\u001b[K\n",
            "remote: Total 14334 (delta 488), reused 804 (delta 455), pack-reused 13431\u001b[K\n",
            "Receiving objects: 100% (14334/14334), 6.19 MiB | 12.04 MiB/s, done.\n",
            "Resolving deltas: 100% (9575/9575), done.\n"
          ]
        }
      ]
    },
    {
      "cell_type": "code",
      "source": [
        "#/content/ohana-api/data/sample-csv/taxonomy.csv\n",
        "mtcars_rdd = sc.textFile('/content/ohana-api/data/sample-csv/taxonomy.csv')"
      ],
      "metadata": {
        "id": "-uxB5LDJ87uD"
      },
      "execution_count": 14,
      "outputs": []
    },
    {
      "cell_type": "code",
      "source": [
        "start_time=time.time()\n",
        "df = spark.read.csv('/content/ohana-api/data/sample-csv/taxonomy.csv', header=True, inferSchema=True)\n",
        "print(\"--- %s seconds ---\" %(time.time()-start_time))"
      ],
      "metadata": {
        "id": "B_qvhE6J9EzO",
        "colab": {
          "base_uri": "https://localhost:8080/"
        },
        "outputId": "e52aa352-a42f-4d49-8e24-f5dc7a0afe74"
      },
      "execution_count": 15,
      "outputs": [
        {
          "output_type": "stream",
          "name": "stdout",
          "text": [
            "--- 6.870236873626709 seconds ---\n"
          ]
        }
      ]
    },
    {
      "cell_type": "code",
      "source": [
        "df.dtypes"
      ],
      "metadata": {
        "colab": {
          "base_uri": "https://localhost:8080/"
        },
        "id": "E0khenyY9bbO",
        "outputId": "639aefff-0c02-4e9b-cf53-dd00032f4017"
      },
      "execution_count": 16,
      "outputs": [
        {
          "output_type": "execute_result",
          "data": {
            "text/plain": [
              "[('taxonomy_id', 'string'),\n",
              " ('name', 'string'),\n",
              " ('parent_id', 'string'),\n",
              " ('parent_name', 'string')]"
            ]
          },
          "metadata": {},
          "execution_count": 16
        }
      ]
    },
    {
      "cell_type": "code",
      "source": [
        "df.show()"
      ],
      "metadata": {
        "colab": {
          "base_uri": "https://localhost:8080/"
        },
        "id": "QINCgxnJ-UBp",
        "outputId": "837a0e46-d0b8-4ed0-d712-96d44a4aa724"
      },
      "execution_count": 17,
      "outputs": [
        {
          "output_type": "stream",
          "name": "stdout",
          "text": [
            "+-----------+--------------------+---------+----------------+\n",
            "|taxonomy_id|                name|parent_id|     parent_name|\n",
            "+-----------+--------------------+---------+----------------+\n",
            "|        101|           Emergency|     null|            null|\n",
            "|     101-01|   Disaster Response|      101|       Emergency|\n",
            "|     101-02|      Emergency Cash|      101|       Emergency|\n",
            "|  101-02-01|   Help Pay for Food|   101-02|  Emergency Cash|\n",
            "|  101-02-02|Help Pay for Heal...|   101-02|  Emergency Cash|\n",
            "|  101-02-03|Help Pay for Housing|   101-02|  Emergency Cash|\n",
            "|  101-02-04|    Help Pay for Gas|   101-02|  Emergency Cash|\n",
            "|  101-02-05| Help Pay for School|   101-02|  Emergency Cash|\n",
            "|  101-02-06|Help Pay for Util...|   101-02|  Emergency Cash|\n",
            "|     101-03|      Emergency Food|      101|       Emergency|\n",
            "|     101-04|   Emergency Shelter|      101|       Emergency|\n",
            "|     101-05|Help Find Missing...|      101|       Emergency|\n",
            "|     101-06|    Immediate Safety|      101|       Emergency|\n",
            "|  101-06-01|Help Escape Violence|   101-06|Immediate Safety|\n",
            "|  101-06-02|        Safe Housing|   101-06|Immediate Safety|\n",
            "|     101-07|Psychiatric Emerg...|      101|       Emergency|\n",
            "|        102|                Food|     null|            null|\n",
            "|     102-01|   Community Gardens|      102|            Food|\n",
            "|     102-02|      Emergency Food|      102|            Food|\n",
            "|     102-03|       Food Delivery|      102|            Food|\n",
            "+-----------+--------------------+---------+----------------+\n",
            "only showing top 20 rows\n",
            "\n"
          ]
        }
      ]
    },
    {
      "cell_type": "code",
      "source": [
        "df.head(10)"
      ],
      "metadata": {
        "colab": {
          "base_uri": "https://localhost:8080/"
        },
        "id": "Uswwo9la-x9W",
        "outputId": "53e781b1-aa66-4b36-aae4-ffeb59ad430b"
      },
      "execution_count": 18,
      "outputs": [
        {
          "output_type": "execute_result",
          "data": {
            "text/plain": [
              "[Row(taxonomy_id='101', name='Emergency', parent_id=None, parent_name=None),\n",
              " Row(taxonomy_id='101-01', name='Disaster Response', parent_id='101', parent_name='Emergency'),\n",
              " Row(taxonomy_id='101-02', name='Emergency Cash', parent_id='101', parent_name='Emergency'),\n",
              " Row(taxonomy_id='101-02-01', name='Help Pay for Food', parent_id='101-02', parent_name='Emergency Cash'),\n",
              " Row(taxonomy_id='101-02-02', name='Help Pay for Healthcare', parent_id='101-02', parent_name='Emergency Cash'),\n",
              " Row(taxonomy_id='101-02-03', name='Help Pay for Housing', parent_id='101-02', parent_name='Emergency Cash'),\n",
              " Row(taxonomy_id='101-02-04', name='Help Pay for Gas', parent_id='101-02', parent_name='Emergency Cash'),\n",
              " Row(taxonomy_id='101-02-05', name='Help Pay for School', parent_id='101-02', parent_name='Emergency Cash'),\n",
              " Row(taxonomy_id='101-02-06', name='Help Pay for Utilities', parent_id='101-02', parent_name='Emergency Cash'),\n",
              " Row(taxonomy_id='101-03', name='Emergency Food', parent_id='101', parent_name='Emergency')]"
            ]
          },
          "metadata": {},
          "execution_count": 18
        }
      ]
    },
    {
      "cell_type": "code",
      "source": [
        "df.first()"
      ],
      "metadata": {
        "colab": {
          "base_uri": "https://localhost:8080/"
        },
        "id": "iSERskay-1Gx",
        "outputId": "b7976f06-eaa5-4d4b-f968-3d7e8d7d446b"
      },
      "execution_count": 19,
      "outputs": [
        {
          "output_type": "execute_result",
          "data": {
            "text/plain": [
              "Row(taxonomy_id='101', name='Emergency', parent_id=None, parent_name=None)"
            ]
          },
          "metadata": {},
          "execution_count": 19
        }
      ]
    },
    {
      "cell_type": "code",
      "source": [
        "df.take(2)"
      ],
      "metadata": {
        "colab": {
          "base_uri": "https://localhost:8080/"
        },
        "id": "4R4iutIc-4ky",
        "outputId": "a4336d68-f6e0-488c-d73c-cb03b36d1317"
      },
      "execution_count": 20,
      "outputs": [
        {
          "output_type": "execute_result",
          "data": {
            "text/plain": [
              "[Row(taxonomy_id='101', name='Emergency', parent_id=None, parent_name=None),\n",
              " Row(taxonomy_id='101-01', name='Disaster Response', parent_id='101', parent_name='Emergency')]"
            ]
          },
          "metadata": {},
          "execution_count": 20
        }
      ]
    },
    {
      "cell_type": "code",
      "source": [
        "df.printSchema()"
      ],
      "metadata": {
        "colab": {
          "base_uri": "https://localhost:8080/"
        },
        "id": "_TVFRD8p-mpo",
        "outputId": "8f8cbb99-b2f3-40f0-c02c-56b88e7d36c6"
      },
      "execution_count": 21,
      "outputs": [
        {
          "output_type": "stream",
          "name": "stdout",
          "text": [
            "root\n",
            " |-- taxonomy_id: string (nullable = true)\n",
            " |-- name: string (nullable = true)\n",
            " |-- parent_id: string (nullable = true)\n",
            " |-- parent_name: string (nullable = true)\n",
            "\n"
          ]
        }
      ]
    },
    {
      "cell_type": "code",
      "source": [
        "df.describe().show() "
      ],
      "metadata": {
        "colab": {
          "base_uri": "https://localhost:8080/"
        },
        "id": "ZuufVMa0-9sd",
        "outputId": "6a8e9a8b-50d2-44a0-dbb5-213e490c16bf"
      },
      "execution_count": 22,
      "outputs": [
        {
          "output_type": "stream",
          "name": "stdout",
          "text": [
            "+-------+---------------+----------------+------------------+--------------------+\n",
            "|summary|    taxonomy_id|            name|         parent_id|         parent_name|\n",
            "+-------+---------------+----------------+------------------+--------------------+\n",
            "|  count|            290|             290|               279|                 279|\n",
            "|   mean|          106.0|            null|105.86666666666666|                null|\n",
            "| stddev|3.3166247903554|            null| 3.306217392478572|                null|\n",
            "|    min|            101|         12-Step|               101|Addiction & Recovery|\n",
            "|    max|         111-05|Workplace Rights|         111-01-01|                Work|\n",
            "+-------+---------------+----------------+------------------+--------------------+\n",
            "\n"
          ]
        }
      ]
    },
    {
      "cell_type": "code",
      "source": [
        "df.describe(['taxonomy_id']).show()"
      ],
      "metadata": {
        "colab": {
          "base_uri": "https://localhost:8080/"
        },
        "id": "rp6fMHxz_E2W",
        "outputId": "6a081a51-e1f6-4f87-9aa2-e5934c0fe6f3"
      },
      "execution_count": 23,
      "outputs": [
        {
          "output_type": "stream",
          "name": "stdout",
          "text": [
            "+-------+---------------+\n",
            "|summary|    taxonomy_id|\n",
            "+-------+---------------+\n",
            "|  count|            290|\n",
            "|   mean|          106.0|\n",
            "| stddev|3.3166247903554|\n",
            "|    min|            101|\n",
            "|    max|         111-05|\n",
            "+-------+---------------+\n",
            "\n"
          ]
        }
      ]
    },
    {
      "cell_type": "code",
      "source": [
        "df.columns "
      ],
      "metadata": {
        "colab": {
          "base_uri": "https://localhost:8080/"
        },
        "id": "lAWRgOmK_HnL",
        "outputId": "848a1f1a-bbc0-412a-f469-c346c505d575"
      },
      "execution_count": 24,
      "outputs": [
        {
          "output_type": "execute_result",
          "data": {
            "text/plain": [
              "['taxonomy_id', 'name', 'parent_id', 'parent_name']"
            ]
          },
          "metadata": {},
          "execution_count": 24
        }
      ]
    },
    {
      "cell_type": "code",
      "source": [
        "df.count() "
      ],
      "metadata": {
        "colab": {
          "base_uri": "https://localhost:8080/"
        },
        "id": "iqvaDECQ_NxS",
        "outputId": "745ed511-6f82-4b6b-8637-0edce00da975"
      },
      "execution_count": 25,
      "outputs": [
        {
          "output_type": "execute_result",
          "data": {
            "text/plain": [
              "290"
            ]
          },
          "metadata": {},
          "execution_count": 25
        }
      ]
    },
    {
      "cell_type": "code",
      "source": [
        "spark.stop()"
      ],
      "metadata": {
        "id": "A3KDDYvbBBPP"
      },
      "execution_count": 26,
      "outputs": []
    },
    {
      "cell_type": "markdown",
      "source": [
        "#FMP\n",
        "\n",
        "\n"
      ],
      "metadata": {
        "id": "e2tqf54At6BC"
      }
    },
    {
      "cell_type": "code",
      "source": [
        "#!/usr/bin/env python\n",
        "\n",
        "try:\n",
        "    # For Python 3.0 and later\n",
        "    from urllib.request import urlopen\n",
        "except ImportError:\n",
        "    # Fall back to Python 2's urllib2\n",
        "    from urllib2 import urlopen\n",
        "\n",
        "import certifi\n",
        "import json\n",
        "\n",
        "def get_jsonparsed_data(url):\n",
        "    \"\"\"\n",
        "    Receive the content of ``url``, parse it as JSON and return the object.\n",
        "\n",
        "    Parameters\n",
        "    ----------\n",
        "    url : str\n",
        "\n",
        "    Returns\n",
        "    -------\n",
        "    dict\n",
        "    \"\"\"\n",
        "    response = urlopen(url, cafile=certifi.where())\n",
        "    data = response.read().decode(\"utf-8\")\n",
        "    return json.loads(data)\n",
        "\n",
        "url_hd = (\"https://financialmodelingprep.com/api/v3/historical-price-full/stock_dividend/AAPL?apikey=8ffff08324836e69d3593a5c14dfc86d\")\n",
        "print(get_jsonparsed_data(url_hd))"
      ],
      "metadata": {
        "colab": {
          "base_uri": "https://localhost:8080/"
        },
        "id": "ybTCfVEbt5x_",
        "outputId": "1cddc022-3837-4629-d9ca-a1c4cc489f85"
      },
      "execution_count": 28,
      "outputs": [
        {
          "output_type": "stream",
          "name": "stderr",
          "text": [
            "/usr/local/lib/python3.7/dist-packages/ipykernel_launcher.py:25: DeprecationWarning: cafile, capath and cadefault are deprecated, use a custom context instead.\n"
          ]
        },
        {
          "output_type": "stream",
          "name": "stdout",
          "text": [
            "{'symbol': 'AAPL', 'historical': [{'date': '2022-08-05', 'label': 'August 05, 22', 'adjDividend': 0.23, 'dividend': 0.23, 'recordDate': '2022-08-08', 'paymentDate': '2022-08-11', 'declarationDate': '2022-07-28'}, {'date': '2022-05-06', 'label': 'May 06, 22', 'adjDividend': 0.23, 'dividend': 0.23, 'recordDate': '2022-05-09', 'paymentDate': '2022-05-12', 'declarationDate': '2022-04-28'}, {'date': '2022-02-04', 'label': 'February 04, 22', 'adjDividend': 0.22, 'dividend': 0.22, 'recordDate': '2022-02-07', 'paymentDate': '2022-02-10', 'declarationDate': '2022-01-27'}, {'date': '2021-11-05', 'label': 'November 05, 21', 'adjDividend': 0.22, 'dividend': 0.22, 'recordDate': '2021-11-08', 'paymentDate': '2021-11-11', 'declarationDate': '2021-10-28'}, {'date': '2021-08-06', 'label': 'August 06, 21', 'adjDividend': 0.22, 'dividend': 0.22, 'recordDate': '2021-08-09', 'paymentDate': '2021-08-12', 'declarationDate': '2021-07-27'}, {'date': '2021-05-07', 'label': 'May 07, 21', 'adjDividend': 0.22, 'dividend': 0.22, 'recordDate': '2021-05-10', 'paymentDate': '2021-05-13', 'declarationDate': '2021-04-28'}, {'date': '2021-02-05', 'label': 'February 05, 21', 'adjDividend': 0.205, 'dividend': 0.205, 'recordDate': '2021-02-08', 'paymentDate': '2021-02-11', 'declarationDate': '2021-01-27'}, {'date': '2020-11-06', 'label': 'November 06, 20', 'adjDividend': 0.205, 'dividend': 0.205, 'recordDate': '2020-11-09', 'paymentDate': '2020-11-12', 'declarationDate': '2020-10-29'}, {'date': '2020-08-07', 'label': 'August 07, 20', 'adjDividend': 0.205, 'dividend': 0.82, 'recordDate': '2020-08-10', 'paymentDate': '2020-08-13', 'declarationDate': '2020-07-30'}, {'date': '2020-05-08', 'label': 'May 08, 20', 'adjDividend': 0.205, 'dividend': 0.82, 'recordDate': '2020-05-11', 'paymentDate': '2020-05-14', 'declarationDate': '2020-04-30'}, {'date': '2020-02-07', 'label': 'February 07, 20', 'adjDividend': 0.1925, 'dividend': 0.77, 'recordDate': '2020-02-10', 'paymentDate': '2020-02-13', 'declarationDate': '2020-01-28'}, {'date': '2019-11-07', 'label': 'November 07, 19', 'adjDividend': 0.1925, 'dividend': 0.77, 'recordDate': '2019-11-11', 'paymentDate': '2019-11-14', 'declarationDate': '2019-10-30'}, {'date': '2019-08-09', 'label': 'August 09, 19', 'adjDividend': 0.1925, 'dividend': 0.77, 'recordDate': '2019-08-12', 'paymentDate': '2019-08-15', 'declarationDate': '2019-07-30'}, {'date': '2019-05-10', 'label': 'May 10, 19', 'adjDividend': 0.1925, 'dividend': 0.77, 'recordDate': '2019-05-13', 'paymentDate': '2019-05-16', 'declarationDate': '2019-05-01'}, {'date': '2019-02-08', 'label': 'February 08, 19', 'adjDividend': 0.1825, 'dividend': 0.73, 'recordDate': '2019-02-11', 'paymentDate': '2019-02-14', 'declarationDate': '2019-01-29'}, {'date': '2018-11-08', 'label': 'November 08, 18', 'adjDividend': 0.1825, 'dividend': 0.73, 'recordDate': '2018-11-12', 'paymentDate': '2018-11-15', 'declarationDate': '2018-11-01'}, {'date': '2018-08-10', 'label': 'August 10, 18', 'adjDividend': 0.1825, 'dividend': 0.73, 'recordDate': '2018-08-13', 'paymentDate': '2018-08-16', 'declarationDate': '2018-07-31'}, {'date': '2018-05-11', 'label': 'May 11, 18', 'adjDividend': 0.1825, 'dividend': 0.73, 'recordDate': '2018-05-14', 'paymentDate': '2018-05-17', 'declarationDate': '2018-05-01'}, {'date': '2018-02-09', 'label': 'February 09, 18', 'adjDividend': 0.1575, 'dividend': 0.63, 'recordDate': '2018-02-12', 'paymentDate': '2018-02-15', 'declarationDate': '2018-02-01'}, {'date': '2017-11-10', 'label': 'November 10, 17', 'adjDividend': 0.1575, 'dividend': 0.63, 'recordDate': '2017-11-13', 'paymentDate': '2017-11-16', 'declarationDate': '2017-11-02'}, {'date': '2017-08-10', 'label': 'August 10, 17', 'adjDividend': 0.1575, 'dividend': 0.63, 'recordDate': '2017-08-14', 'paymentDate': '2017-08-17', 'declarationDate': '2017-08-01'}, {'date': '2017-05-11', 'label': 'May 11, 17', 'adjDividend': 0.1575, 'dividend': 0.63, 'recordDate': '2017-05-15', 'paymentDate': '2017-05-18', 'declarationDate': '2017-05-02'}, {'date': '2017-02-09', 'label': 'February 09, 17', 'adjDividend': 0.1425, 'dividend': 0.57, 'recordDate': '2017-02-13', 'paymentDate': '2017-02-16', 'declarationDate': '2017-02-01'}, {'date': '2016-11-03', 'label': 'November 03, 16', 'adjDividend': 0.1425, 'dividend': 0.57, 'recordDate': '2016-11-07', 'paymentDate': '2016-11-10', 'declarationDate': '2016-10-25'}, {'date': '2016-08-04', 'label': 'August 04, 16', 'adjDividend': 0.1425, 'dividend': 0.57, 'recordDate': '2016-08-08', 'paymentDate': '2016-08-11', 'declarationDate': '2016-07-26'}, {'date': '2016-05-05', 'label': 'May 05, 16', 'adjDividend': 0.1425, 'dividend': 0.57, 'recordDate': '2016-05-09', 'paymentDate': '2016-05-12', 'declarationDate': '2016-04-26'}, {'date': '2016-02-04', 'label': 'February 04, 16', 'adjDividend': 0.13, 'dividend': 0.52, 'recordDate': '2016-02-08', 'paymentDate': '2016-02-11', 'declarationDate': '2016-01-26'}, {'date': '2015-11-05', 'label': 'November 05, 15', 'adjDividend': 0.13, 'dividend': 0.52, 'recordDate': '2015-11-09', 'paymentDate': '2015-11-12', 'declarationDate': '2015-10-27'}, {'date': '2015-08-06', 'label': 'August 06, 15', 'adjDividend': 0.13, 'dividend': 0.52, 'recordDate': '2015-08-10', 'paymentDate': '2015-08-13', 'declarationDate': '2015-07-21'}, {'date': '2015-05-07', 'label': 'May 07, 15', 'adjDividend': 0.13, 'dividend': 0.52, 'recordDate': '2015-05-11', 'paymentDate': '2015-05-14', 'declarationDate': '2015-04-27'}, {'date': '2015-02-05', 'label': 'February 05, 15', 'adjDividend': 0.1175, 'dividend': 0.47, 'recordDate': '2015-02-09', 'paymentDate': '2015-02-12', 'declarationDate': '2015-01-27'}, {'date': '2014-11-06', 'label': 'November 06, 14', 'adjDividend': 0.1175, 'dividend': 0.47, 'recordDate': '2014-11-10', 'paymentDate': '2014-11-13', 'declarationDate': '2014-10-20'}, {'date': '2014-08-07', 'label': 'August 07, 14', 'adjDividend': 0.1175, 'dividend': 0.47, 'recordDate': '2014-08-11', 'paymentDate': '2014-08-14', 'declarationDate': '2014-07-22'}, {'date': '2014-05-08', 'label': 'May 08, 14', 'adjDividend': 0.1175, 'dividend': 3.29, 'recordDate': '2014-05-12', 'paymentDate': '2014-05-15', 'declarationDate': '2014-04-23'}, {'date': '2014-02-06', 'label': 'February 06, 14', 'adjDividend': 0.108929, 'dividend': 3.05, 'recordDate': '2014-02-10', 'paymentDate': '2014-02-13', 'declarationDate': '2014-01-27'}, {'date': '2013-11-06', 'label': 'November 06, 13', 'adjDividend': 0.108929, 'dividend': 3.05, 'recordDate': '2013-11-11', 'paymentDate': '2013-11-14', 'declarationDate': '2013-10-28'}, {'date': '2013-08-08', 'label': 'August 08, 13', 'adjDividend': 0.108929, 'dividend': 3.05, 'recordDate': '2013-08-12', 'paymentDate': '2013-08-15', 'declarationDate': '2013-07-23'}, {'date': '2013-05-09', 'label': 'May 09, 13', 'adjDividend': 0.108929, 'dividend': 3.05, 'recordDate': '2013-05-13', 'paymentDate': '2013-05-16', 'declarationDate': '2013-04-23'}, {'date': '2013-02-07', 'label': 'February 07, 13', 'adjDividend': 0.094643, 'dividend': 2.65, 'recordDate': '2013-02-11', 'paymentDate': '2013-02-14', 'declarationDate': '2013-01-23'}, {'date': '2012-11-07', 'label': 'November 07, 12', 'adjDividend': 0.094643, 'dividend': 2.65, 'recordDate': '2012-11-12', 'paymentDate': '2012-11-15', 'declarationDate': '2012-10-25'}, {'date': '2012-08-09', 'label': 'August 09, 12', 'adjDividend': 0.094643, 'dividend': 2.65, 'recordDate': '2012-08-13', 'paymentDate': '2012-08-16', 'declarationDate': '2012-03-19'}, {'date': '1995-11-21', 'label': 'November 21, 95', 'adjDividend': 0.001071, 'dividend': 0.12, 'recordDate': '', 'paymentDate': '', 'declarationDate': ''}, {'date': '1995-11-20', 'label': 'November 20, 95', 'adjDividend': 0.0010714275, 'dividend': 0.12, 'recordDate': '1995-11-24', 'paymentDate': '1995-12-15', 'declarationDate': '1995-10-09'}, {'date': '1995-08-16', 'label': 'August 16, 95', 'adjDividend': 0.001071, 'dividend': 0.12, 'recordDate': '1995-08-18', 'paymentDate': '1995-09-08', 'declarationDate': '1995-07-20'}, {'date': '1995-05-29', 'label': 'May 29, 95', 'adjDividend': 0.0010714275, 'dividend': 0.12, 'recordDate': '1995-06-02', 'paymentDate': '1995-06-23', 'declarationDate': '1995-05-02'}, {'date': '1995-05-26', 'label': 'May 26, 95', 'adjDividend': 0.001071, 'dividend': 0.12, 'recordDate': '', 'paymentDate': '', 'declarationDate': ''}, {'date': '1995-02-14', 'label': 'February 14, 95', 'adjDividend': 0.0010714275, 'dividend': 0.12, 'recordDate': '1995-02-17', 'paymentDate': '1995-03-10', 'declarationDate': ''}, {'date': '1995-02-13', 'label': 'February 13, 95', 'adjDividend': 0.001071, 'dividend': 0.12, 'recordDate': '', 'paymentDate': '', 'declarationDate': ''}, {'date': '1994-11-21', 'label': 'November 21, 94', 'adjDividend': 0.0010714275, 'dividend': 0.12, 'recordDate': '1994-11-25', 'paymentDate': '1994-12-16', 'declarationDate': ''}, {'date': '1994-11-18', 'label': 'November 18, 94', 'adjDividend': 0.001071, 'dividend': 0.12, 'recordDate': '', 'paymentDate': '', 'declarationDate': ''}, {'date': '1994-08-16', 'label': 'August 16, 94', 'adjDividend': 0.0010714275, 'dividend': 0.12, 'recordDate': '1994-08-19', 'paymentDate': '1994-09-09', 'declarationDate': ''}, {'date': '1994-08-15', 'label': 'August 15, 94', 'adjDividend': 0.001071, 'dividend': 0.12, 'recordDate': '', 'paymentDate': '', 'declarationDate': ''}, {'date': '1994-05-30', 'label': 'May 30, 94', 'adjDividend': 0.0010714275, 'dividend': 0.12, 'recordDate': '1994-06-03', 'paymentDate': '1994-06-24', 'declarationDate': ''}, {'date': '1994-05-27', 'label': 'May 27, 94', 'adjDividend': 0.001071, 'dividend': 0.12, 'recordDate': '', 'paymentDate': '', 'declarationDate': ''}, {'date': '1994-02-08', 'label': 'February 08, 94', 'adjDividend': 0.0010714275, 'dividend': 0.12, 'recordDate': '1994-02-11', 'paymentDate': '1994-03-04', 'declarationDate': '1994-02-02'}, {'date': '1994-02-07', 'label': 'February 07, 94', 'adjDividend': 0.001071, 'dividend': 0.12, 'recordDate': '', 'paymentDate': '', 'declarationDate': ''}, {'date': '1993-11-22', 'label': 'November 22, 93', 'adjDividend': 0.0010714275, 'dividend': 0.12, 'recordDate': '1993-11-26', 'paymentDate': '1993-12-17', 'declarationDate': ''}, {'date': '1993-11-19', 'label': 'November 19, 93', 'adjDividend': 0.001071, 'dividend': 0.12, 'recordDate': '', 'paymentDate': '', 'declarationDate': ''}, {'date': '1993-08-17', 'label': 'August 17, 93', 'adjDividend': 0.0010714275, 'dividend': 0.12, 'recordDate': '1993-08-20', 'paymentDate': '1993-09-10', 'declarationDate': ''}, {'date': '1993-08-16', 'label': 'August 16, 93', 'adjDividend': 0.001071, 'dividend': 0.12, 'recordDate': '', 'paymentDate': '', 'declarationDate': ''}, {'date': '1993-06-01', 'label': 'June 01, 93', 'adjDividend': 0.0010714275, 'dividend': 0.12, 'recordDate': '1993-06-04', 'paymentDate': '1993-06-25', 'declarationDate': ''}, {'date': '1993-05-28', 'label': 'May 28, 93', 'adjDividend': 0.001071, 'dividend': 0.12, 'recordDate': '', 'paymentDate': '', 'declarationDate': ''}, {'date': '1993-02-16', 'label': 'February 16, 93', 'adjDividend': 0.0010714275, 'dividend': 0.12, 'recordDate': '1993-02-19', 'paymentDate': '1993-03-12', 'declarationDate': ''}, {'date': '1993-02-12', 'label': 'February 12, 93', 'adjDividend': 0.001071, 'dividend': 0.12, 'recordDate': '', 'paymentDate': '', 'declarationDate': ''}, {'date': '1992-11-30', 'label': 'November 30, 92', 'adjDividend': 0.001071, 'dividend': 0.12, 'recordDate': '1992-12-04', 'paymentDate': '1992-12-18', 'declarationDate': '1992-11-23'}, {'date': '1992-08-17', 'label': 'August 17, 92', 'adjDividend': 0.001071, 'dividend': 0.12, 'recordDate': '1992-08-21', 'paymentDate': '1992-09-11', 'declarationDate': ''}, {'date': '1992-06-01', 'label': 'June 01, 92', 'adjDividend': 0.001071, 'dividend': 0.12, 'recordDate': '', 'paymentDate': '', 'declarationDate': ''}, {'date': '1992-02-14', 'label': 'February 14, 92', 'adjDividend': 0.001071, 'dividend': 0.12, 'recordDate': '1992-02-21', 'paymentDate': '1992-03-13', 'declarationDate': ''}, {'date': '1991-11-18', 'label': 'November 18, 91', 'adjDividend': 0.001071, 'dividend': 0.12, 'recordDate': '1991-11-22', 'paymentDate': '1991-12-13', 'declarationDate': ''}, {'date': '1991-08-19', 'label': 'August 19, 91', 'adjDividend': 0.001071, 'dividend': 0.12, 'recordDate': '1991-08-23', 'paymentDate': '1991-09-13', 'declarationDate': ''}, {'date': '1991-05-20', 'label': 'May 20, 91', 'adjDividend': 0.001071, 'dividend': 0.12, 'recordDate': '1991-05-24', 'paymentDate': '1991-06-14', 'declarationDate': ''}, {'date': '1991-02-19', 'label': 'February 19, 91', 'adjDividend': 0.0010714275, 'dividend': 0.12, 'recordDate': '1991-02-22', 'paymentDate': '1991-03-15', 'declarationDate': ''}, {'date': '1991-02-15', 'label': 'February 15, 91', 'adjDividend': 0.001071, 'dividend': 0.12, 'recordDate': '', 'paymentDate': '', 'declarationDate': ''}, {'date': '1990-11-19', 'label': 'November 19, 90', 'adjDividend': 0.0010714275, 'dividend': 0.12, 'recordDate': '1990-11-23', 'paymentDate': '1990-12-14', 'declarationDate': '1990-11-08'}, {'date': '1990-11-16', 'label': 'November 16, 90', 'adjDividend': 0.001071, 'dividend': 0.12, 'recordDate': '', 'paymentDate': '', 'declarationDate': ''}, {'date': '1990-08-21', 'label': 'August 21, 90', 'adjDividend': 0.0009821419, 'dividend': 0.11, 'recordDate': '1990-08-24', 'paymentDate': '1990-09-14', 'declarationDate': '1990-07-23'}, {'date': '1990-08-20', 'label': 'August 20, 90', 'adjDividend': 0.000982, 'dividend': 0.11, 'recordDate': '', 'paymentDate': '', 'declarationDate': ''}, {'date': '1990-05-22', 'label': 'May 22, 90', 'adjDividend': 0.0009821419, 'dividend': 0.11, 'recordDate': '1990-05-25', 'paymentDate': '1990-06-15', 'declarationDate': '1990-04-09'}, {'date': '1990-05-21', 'label': 'May 21, 90', 'adjDividend': 0.000982, 'dividend': 0.11, 'recordDate': '', 'paymentDate': '', 'declarationDate': ''}, {'date': '1990-02-19', 'label': 'February 19, 90', 'adjDividend': 0.0009821419, 'dividend': 0.11, 'recordDate': '1990-02-23', 'paymentDate': '1990-03-15', 'declarationDate': '1990-02-02'}, {'date': '1990-02-16', 'label': 'February 16, 90', 'adjDividend': 0.000982, 'dividend': 0.11, 'recordDate': '', 'paymentDate': '', 'declarationDate': ''}, {'date': '1989-11-17', 'label': 'November 17, 89', 'adjDividend': 0.000982, 'dividend': 0.1, 'recordDate': '', 'paymentDate': '', 'declarationDate': ''}, {'date': '1989-08-21', 'label': 'August 21, 89', 'adjDividend': 0.000893, 'dividend': 0.1, 'recordDate': '', 'paymentDate': '', 'declarationDate': ''}, {'date': '1989-05-22', 'label': 'May 22, 89', 'adjDividend': 0.000893, 'dividend': 0.1, 'recordDate': '', 'paymentDate': '', 'declarationDate': ''}, {'date': '1989-02-17', 'label': 'February 17, 89', 'adjDividend': 0.000893, 'dividend': 0.1, 'recordDate': '', 'paymentDate': '', 'declarationDate': ''}, {'date': '1988-11-21', 'label': 'November 21, 88', 'adjDividend': 0.000893, 'dividend': 0.1, 'recordDate': '', 'paymentDate': '', 'declarationDate': ''}, {'date': '1988-08-15', 'label': 'August 15, 88', 'adjDividend': 0.000714, 'dividend': 0.08, 'recordDate': '', 'paymentDate': '', 'declarationDate': ''}, {'date': '1988-05-16', 'label': 'May 16, 88', 'adjDividend': 0.000714, 'dividend': 0.08, 'recordDate': '', 'paymentDate': '', 'declarationDate': ''}, {'date': '1988-02-12', 'label': 'February 12, 88', 'adjDividend': 0.000714, 'dividend': 0.08, 'recordDate': '', 'paymentDate': '', 'declarationDate': ''}, {'date': '1987-11-17', 'label': 'November 17, 87', 'adjDividend': 0.000714, 'dividend': 0.08, 'recordDate': '', 'paymentDate': '', 'declarationDate': ''}, {'date': '1987-08-10', 'label': 'August 10, 87', 'adjDividend': 0.000536, 'dividend': 0.06, 'recordDate': '', 'paymentDate': '', 'declarationDate': ''}, {'date': '1987-05-11', 'label': 'May 11, 87', 'adjDividend': 0.000536, 'dividend': 0.06, 'recordDate': '', 'paymentDate': '', 'declarationDate': ''}]}\n"
          ]
        }
      ]
    },
    {
      "cell_type": "code",
      "source": [
        "from pyspark import SparkContext\n",
        "sc = SparkContext.getOrCreate()"
      ],
      "metadata": {
        "id": "rjQxF9VKuRKX"
      },
      "execution_count": 30,
      "outputs": []
    },
    {
      "cell_type": "code",
      "source": [
        "start_time=time.time()\n",
        "from pyspark.sql import SparkSession\n",
        "# ในกรณีที่ไม่มี spark context อยู่ก่อนแล้ว เราก็สร้างใหม่\n",
        "if (sc is None):\n",
        "    sc = SparkContext(master=\"local[*]\")\n",
        "\n",
        "spark = SparkSession(sparkContext=sc)\\\n",
        "        .builder\\\n",
        "        .appName(\"How to Spark\")\\\n",
        "        .config(\"spark.some.config.option\", \"some-value\") \\\n",
        "        .getOrCreate()\n",
        "\n",
        "print(\"--- %s seconds ---\" %(time.time()-start_time))"
      ],
      "metadata": {
        "colab": {
          "base_uri": "https://localhost:8080/"
        },
        "id": "As9Hb_mtt8TU",
        "outputId": "5c977bc3-6089-4922-9863-1365e60150cd"
      },
      "execution_count": 31,
      "outputs": [
        {
          "output_type": "stream",
          "name": "stdout",
          "text": [
            "--- 0.07771158218383789 seconds ---\n"
          ]
        }
      ]
    },
    {
      "cell_type": "code",
      "source": [
        "import pandas as pd\n",
        "#แปลงค่าที่รับมาจาก api ให้อยู่ในรูปแบบ dataframe\n",
        "#keep value from api in data_hd\n",
        "data_hd=get_jsonparsed_data(url_hd)\n",
        "\n",
        "#ใช้ pd.json_normalize เพราะข้อมูลมีการซ้อนกันใน historical\n",
        "df_hd= pd.json_normalize(data_hd, 'historical')\n",
        "df_hd.head(10)"
      ],
      "metadata": {
        "colab": {
          "base_uri": "https://localhost:8080/",
          "height": 400
        },
        "id": "kWsqSAYuuS5o",
        "outputId": "5fa40f99-7b24-41c8-835f-e268c539270a"
      },
      "execution_count": 33,
      "outputs": [
        {
          "output_type": "stream",
          "name": "stderr",
          "text": [
            "/usr/local/lib/python3.7/dist-packages/ipykernel_launcher.py:25: DeprecationWarning: cafile, capath and cadefault are deprecated, use a custom context instead.\n"
          ]
        },
        {
          "output_type": "execute_result",
          "data": {
            "text/plain": [
              "         date            label  adjDividend  dividend  recordDate paymentDate  \\\n",
              "0  2022-08-05    August 05, 22        0.230     0.230  2022-08-08  2022-08-11   \n",
              "1  2022-05-06       May 06, 22        0.230     0.230  2022-05-09  2022-05-12   \n",
              "2  2022-02-04  February 04, 22        0.220     0.220  2022-02-07  2022-02-10   \n",
              "3  2021-11-05  November 05, 21        0.220     0.220  2021-11-08  2021-11-11   \n",
              "4  2021-08-06    August 06, 21        0.220     0.220  2021-08-09  2021-08-12   \n",
              "5  2021-05-07       May 07, 21        0.220     0.220  2021-05-10  2021-05-13   \n",
              "6  2021-02-05  February 05, 21        0.205     0.205  2021-02-08  2021-02-11   \n",
              "7  2020-11-06  November 06, 20        0.205     0.205  2020-11-09  2020-11-12   \n",
              "8  2020-08-07    August 07, 20        0.205     0.820  2020-08-10  2020-08-13   \n",
              "9  2020-05-08       May 08, 20        0.205     0.820  2020-05-11  2020-05-14   \n",
              "\n",
              "  declarationDate  \n",
              "0      2022-07-28  \n",
              "1      2022-04-28  \n",
              "2      2022-01-27  \n",
              "3      2021-10-28  \n",
              "4      2021-07-27  \n",
              "5      2021-04-28  \n",
              "6      2021-01-27  \n",
              "7      2020-10-29  \n",
              "8      2020-07-30  \n",
              "9      2020-04-30  "
            ],
            "text/html": [
              "\n",
              "  <div id=\"df-a3b12e67-a3c6-4947-a21d-620afab0229e\">\n",
              "    <div class=\"colab-df-container\">\n",
              "      <div>\n",
              "<style scoped>\n",
              "    .dataframe tbody tr th:only-of-type {\n",
              "        vertical-align: middle;\n",
              "    }\n",
              "\n",
              "    .dataframe tbody tr th {\n",
              "        vertical-align: top;\n",
              "    }\n",
              "\n",
              "    .dataframe thead th {\n",
              "        text-align: right;\n",
              "    }\n",
              "</style>\n",
              "<table border=\"1\" class=\"dataframe\">\n",
              "  <thead>\n",
              "    <tr style=\"text-align: right;\">\n",
              "      <th></th>\n",
              "      <th>date</th>\n",
              "      <th>label</th>\n",
              "      <th>adjDividend</th>\n",
              "      <th>dividend</th>\n",
              "      <th>recordDate</th>\n",
              "      <th>paymentDate</th>\n",
              "      <th>declarationDate</th>\n",
              "    </tr>\n",
              "  </thead>\n",
              "  <tbody>\n",
              "    <tr>\n",
              "      <th>0</th>\n",
              "      <td>2022-08-05</td>\n",
              "      <td>August 05, 22</td>\n",
              "      <td>0.230</td>\n",
              "      <td>0.230</td>\n",
              "      <td>2022-08-08</td>\n",
              "      <td>2022-08-11</td>\n",
              "      <td>2022-07-28</td>\n",
              "    </tr>\n",
              "    <tr>\n",
              "      <th>1</th>\n",
              "      <td>2022-05-06</td>\n",
              "      <td>May 06, 22</td>\n",
              "      <td>0.230</td>\n",
              "      <td>0.230</td>\n",
              "      <td>2022-05-09</td>\n",
              "      <td>2022-05-12</td>\n",
              "      <td>2022-04-28</td>\n",
              "    </tr>\n",
              "    <tr>\n",
              "      <th>2</th>\n",
              "      <td>2022-02-04</td>\n",
              "      <td>February 04, 22</td>\n",
              "      <td>0.220</td>\n",
              "      <td>0.220</td>\n",
              "      <td>2022-02-07</td>\n",
              "      <td>2022-02-10</td>\n",
              "      <td>2022-01-27</td>\n",
              "    </tr>\n",
              "    <tr>\n",
              "      <th>3</th>\n",
              "      <td>2021-11-05</td>\n",
              "      <td>November 05, 21</td>\n",
              "      <td>0.220</td>\n",
              "      <td>0.220</td>\n",
              "      <td>2021-11-08</td>\n",
              "      <td>2021-11-11</td>\n",
              "      <td>2021-10-28</td>\n",
              "    </tr>\n",
              "    <tr>\n",
              "      <th>4</th>\n",
              "      <td>2021-08-06</td>\n",
              "      <td>August 06, 21</td>\n",
              "      <td>0.220</td>\n",
              "      <td>0.220</td>\n",
              "      <td>2021-08-09</td>\n",
              "      <td>2021-08-12</td>\n",
              "      <td>2021-07-27</td>\n",
              "    </tr>\n",
              "    <tr>\n",
              "      <th>5</th>\n",
              "      <td>2021-05-07</td>\n",
              "      <td>May 07, 21</td>\n",
              "      <td>0.220</td>\n",
              "      <td>0.220</td>\n",
              "      <td>2021-05-10</td>\n",
              "      <td>2021-05-13</td>\n",
              "      <td>2021-04-28</td>\n",
              "    </tr>\n",
              "    <tr>\n",
              "      <th>6</th>\n",
              "      <td>2021-02-05</td>\n",
              "      <td>February 05, 21</td>\n",
              "      <td>0.205</td>\n",
              "      <td>0.205</td>\n",
              "      <td>2021-02-08</td>\n",
              "      <td>2021-02-11</td>\n",
              "      <td>2021-01-27</td>\n",
              "    </tr>\n",
              "    <tr>\n",
              "      <th>7</th>\n",
              "      <td>2020-11-06</td>\n",
              "      <td>November 06, 20</td>\n",
              "      <td>0.205</td>\n",
              "      <td>0.205</td>\n",
              "      <td>2020-11-09</td>\n",
              "      <td>2020-11-12</td>\n",
              "      <td>2020-10-29</td>\n",
              "    </tr>\n",
              "    <tr>\n",
              "      <th>8</th>\n",
              "      <td>2020-08-07</td>\n",
              "      <td>August 07, 20</td>\n",
              "      <td>0.205</td>\n",
              "      <td>0.820</td>\n",
              "      <td>2020-08-10</td>\n",
              "      <td>2020-08-13</td>\n",
              "      <td>2020-07-30</td>\n",
              "    </tr>\n",
              "    <tr>\n",
              "      <th>9</th>\n",
              "      <td>2020-05-08</td>\n",
              "      <td>May 08, 20</td>\n",
              "      <td>0.205</td>\n",
              "      <td>0.820</td>\n",
              "      <td>2020-05-11</td>\n",
              "      <td>2020-05-14</td>\n",
              "      <td>2020-04-30</td>\n",
              "    </tr>\n",
              "  </tbody>\n",
              "</table>\n",
              "</div>\n",
              "      <button class=\"colab-df-convert\" onclick=\"convertToInteractive('df-a3b12e67-a3c6-4947-a21d-620afab0229e')\"\n",
              "              title=\"Convert this dataframe to an interactive table.\"\n",
              "              style=\"display:none;\">\n",
              "        \n",
              "  <svg xmlns=\"http://www.w3.org/2000/svg\" height=\"24px\"viewBox=\"0 0 24 24\"\n",
              "       width=\"24px\">\n",
              "    <path d=\"M0 0h24v24H0V0z\" fill=\"none\"/>\n",
              "    <path d=\"M18.56 5.44l.94 2.06.94-2.06 2.06-.94-2.06-.94-.94-2.06-.94 2.06-2.06.94zm-11 1L8.5 8.5l.94-2.06 2.06-.94-2.06-.94L8.5 2.5l-.94 2.06-2.06.94zm10 10l.94 2.06.94-2.06 2.06-.94-2.06-.94-.94-2.06-.94 2.06-2.06.94z\"/><path d=\"M17.41 7.96l-1.37-1.37c-.4-.4-.92-.59-1.43-.59-.52 0-1.04.2-1.43.59L10.3 9.45l-7.72 7.72c-.78.78-.78 2.05 0 2.83L4 21.41c.39.39.9.59 1.41.59.51 0 1.02-.2 1.41-.59l7.78-7.78 2.81-2.81c.8-.78.8-2.07 0-2.86zM5.41 20L4 18.59l7.72-7.72 1.47 1.35L5.41 20z\"/>\n",
              "  </svg>\n",
              "      </button>\n",
              "      \n",
              "  <style>\n",
              "    .colab-df-container {\n",
              "      display:flex;\n",
              "      flex-wrap:wrap;\n",
              "      gap: 12px;\n",
              "    }\n",
              "\n",
              "    .colab-df-convert {\n",
              "      background-color: #E8F0FE;\n",
              "      border: none;\n",
              "      border-radius: 50%;\n",
              "      cursor: pointer;\n",
              "      display: none;\n",
              "      fill: #1967D2;\n",
              "      height: 32px;\n",
              "      padding: 0 0 0 0;\n",
              "      width: 32px;\n",
              "    }\n",
              "\n",
              "    .colab-df-convert:hover {\n",
              "      background-color: #E2EBFA;\n",
              "      box-shadow: 0px 1px 2px rgba(60, 64, 67, 0.3), 0px 1px 3px 1px rgba(60, 64, 67, 0.15);\n",
              "      fill: #174EA6;\n",
              "    }\n",
              "\n",
              "    [theme=dark] .colab-df-convert {\n",
              "      background-color: #3B4455;\n",
              "      fill: #D2E3FC;\n",
              "    }\n",
              "\n",
              "    [theme=dark] .colab-df-convert:hover {\n",
              "      background-color: #434B5C;\n",
              "      box-shadow: 0px 1px 3px 1px rgba(0, 0, 0, 0.15);\n",
              "      filter: drop-shadow(0px 1px 2px rgba(0, 0, 0, 0.3));\n",
              "      fill: #FFFFFF;\n",
              "    }\n",
              "  </style>\n",
              "\n",
              "      <script>\n",
              "        const buttonEl =\n",
              "          document.querySelector('#df-a3b12e67-a3c6-4947-a21d-620afab0229e button.colab-df-convert');\n",
              "        buttonEl.style.display =\n",
              "          google.colab.kernel.accessAllowed ? 'block' : 'none';\n",
              "\n",
              "        async function convertToInteractive(key) {\n",
              "          const element = document.querySelector('#df-a3b12e67-a3c6-4947-a21d-620afab0229e');\n",
              "          const dataTable =\n",
              "            await google.colab.kernel.invokeFunction('convertToInteractive',\n",
              "                                                     [key], {});\n",
              "          if (!dataTable) return;\n",
              "\n",
              "          const docLinkHtml = 'Like what you see? Visit the ' +\n",
              "            '<a target=\"_blank\" href=https://colab.research.google.com/notebooks/data_table.ipynb>data table notebook</a>'\n",
              "            + ' to learn more about interactive tables.';\n",
              "          element.innerHTML = '';\n",
              "          dataTable['output_type'] = 'display_data';\n",
              "          await google.colab.output.renderOutput(dataTable, element);\n",
              "          const docLink = document.createElement('div');\n",
              "          docLink.innerHTML = docLinkHtml;\n",
              "          element.appendChild(docLink);\n",
              "        }\n",
              "      </script>\n",
              "    </div>\n",
              "  </div>\n",
              "  "
            ]
          },
          "metadata": {},
          "execution_count": 33
        }
      ]
    },
    {
      "cell_type": "code",
      "source": [
        "#คำสั่งใน spark\n",
        "#https://sparkbyexamples.com/spark/different-ways-to-create-a-spark-dataframe/\n",
        "\n",
        "df_spark  = spark.createDataFrame(df_hd)"
      ],
      "metadata": {
        "id": "nM7zG7-nubeq"
      },
      "execution_count": 36,
      "outputs": []
    },
    {
      "cell_type": "code",
      "source": [
        "df_spark.show()"
      ],
      "metadata": {
        "colab": {
          "base_uri": "https://localhost:8080/"
        },
        "id": "DRQ4tTrSul09",
        "outputId": "793bb2d8-64ad-41e5-860e-6d1bd25b8a05"
      },
      "execution_count": 38,
      "outputs": [
        {
          "output_type": "stream",
          "name": "stdout",
          "text": [
            "+----------+---------------+-----------+--------+----------+-----------+---------------+\n",
            "|      date|          label|adjDividend|dividend|recordDate|paymentDate|declarationDate|\n",
            "+----------+---------------+-----------+--------+----------+-----------+---------------+\n",
            "|2022-08-05|  August 05, 22|       0.23|    0.23|2022-08-08| 2022-08-11|     2022-07-28|\n",
            "|2022-05-06|     May 06, 22|       0.23|    0.23|2022-05-09| 2022-05-12|     2022-04-28|\n",
            "|2022-02-04|February 04, 22|       0.22|    0.22|2022-02-07| 2022-02-10|     2022-01-27|\n",
            "|2021-11-05|November 05, 21|       0.22|    0.22|2021-11-08| 2021-11-11|     2021-10-28|\n",
            "|2021-08-06|  August 06, 21|       0.22|    0.22|2021-08-09| 2021-08-12|     2021-07-27|\n",
            "|2021-05-07|     May 07, 21|       0.22|    0.22|2021-05-10| 2021-05-13|     2021-04-28|\n",
            "|2021-02-05|February 05, 21|      0.205|   0.205|2021-02-08| 2021-02-11|     2021-01-27|\n",
            "|2020-11-06|November 06, 20|      0.205|   0.205|2020-11-09| 2020-11-12|     2020-10-29|\n",
            "|2020-08-07|  August 07, 20|      0.205|    0.82|2020-08-10| 2020-08-13|     2020-07-30|\n",
            "|2020-05-08|     May 08, 20|      0.205|    0.82|2020-05-11| 2020-05-14|     2020-04-30|\n",
            "|2020-02-07|February 07, 20|     0.1925|    0.77|2020-02-10| 2020-02-13|     2020-01-28|\n",
            "|2019-11-07|November 07, 19|     0.1925|    0.77|2019-11-11| 2019-11-14|     2019-10-30|\n",
            "|2019-08-09|  August 09, 19|     0.1925|    0.77|2019-08-12| 2019-08-15|     2019-07-30|\n",
            "|2019-05-10|     May 10, 19|     0.1925|    0.77|2019-05-13| 2019-05-16|     2019-05-01|\n",
            "|2019-02-08|February 08, 19|     0.1825|    0.73|2019-02-11| 2019-02-14|     2019-01-29|\n",
            "|2018-11-08|November 08, 18|     0.1825|    0.73|2018-11-12| 2018-11-15|     2018-11-01|\n",
            "|2018-08-10|  August 10, 18|     0.1825|    0.73|2018-08-13| 2018-08-16|     2018-07-31|\n",
            "|2018-05-11|     May 11, 18|     0.1825|    0.73|2018-05-14| 2018-05-17|     2018-05-01|\n",
            "|2018-02-09|February 09, 18|     0.1575|    0.63|2018-02-12| 2018-02-15|     2018-02-01|\n",
            "|2017-11-10|November 10, 17|     0.1575|    0.63|2017-11-13| 2017-11-16|     2017-11-02|\n",
            "+----------+---------------+-----------+--------+----------+-----------+---------------+\n",
            "only showing top 20 rows\n",
            "\n"
          ]
        }
      ]
    },
    {
      "cell_type": "code",
      "source": [
        "df_spark.printSchema()"
      ],
      "metadata": {
        "colab": {
          "base_uri": "https://localhost:8080/"
        },
        "id": "o3lRKdDavBmk",
        "outputId": "98eb23f8-89ae-4f94-f052-76282ec47047"
      },
      "execution_count": 44,
      "outputs": [
        {
          "output_type": "stream",
          "name": "stdout",
          "text": [
            "root\n",
            " |-- date: string (nullable = true)\n",
            " |-- label: string (nullable = true)\n",
            " |-- adjDividend: double (nullable = true)\n",
            " |-- dividend: double (nullable = true)\n",
            " |-- recordDate: string (nullable = true)\n",
            " |-- paymentDate: string (nullable = true)\n",
            " |-- declarationDate: string (nullable = true)\n",
            "\n"
          ]
        }
      ]
    },
    {
      "cell_type": "code",
      "source": [
        "df_spark.count()"
      ],
      "metadata": {
        "colab": {
          "base_uri": "https://localhost:8080/"
        },
        "id": "vwaFRlkYvQd4",
        "outputId": "33015e7c-3ccc-4ed3-f91a-009f5e001c0c"
      },
      "execution_count": 53,
      "outputs": [
        {
          "output_type": "execute_result",
          "data": {
            "text/plain": [
              "92"
            ]
          },
          "metadata": {},
          "execution_count": 53
        }
      ]
    },
    {
      "cell_type": "code",
      "source": [
        "#อ้างมาจาก วิดีโอ bigdata อาจารย์ของมจธ\n",
        "df_spark.limit(3).toPandas()"
      ],
      "metadata": {
        "colab": {
          "base_uri": "https://localhost:8080/",
          "height": 143
        },
        "id": "4NLWEQnk236n",
        "outputId": "2d1bc310-525c-4305-d284-7eef91d85962"
      },
      "execution_count": 57,
      "outputs": [
        {
          "output_type": "execute_result",
          "data": {
            "text/plain": [
              "         date            label  adjDividend  dividend  recordDate paymentDate  \\\n",
              "0  2022-08-05    August 05, 22         0.23      0.23  2022-08-08  2022-08-11   \n",
              "1  2022-05-06       May 06, 22         0.23      0.23  2022-05-09  2022-05-12   \n",
              "2  2022-02-04  February 04, 22         0.22      0.22  2022-02-07  2022-02-10   \n",
              "\n",
              "  declarationDate  \n",
              "0      2022-07-28  \n",
              "1      2022-04-28  \n",
              "2      2022-01-27  "
            ],
            "text/html": [
              "\n",
              "  <div id=\"df-a272d74d-5a07-4c96-9ad4-3466d3853c74\">\n",
              "    <div class=\"colab-df-container\">\n",
              "      <div>\n",
              "<style scoped>\n",
              "    .dataframe tbody tr th:only-of-type {\n",
              "        vertical-align: middle;\n",
              "    }\n",
              "\n",
              "    .dataframe tbody tr th {\n",
              "        vertical-align: top;\n",
              "    }\n",
              "\n",
              "    .dataframe thead th {\n",
              "        text-align: right;\n",
              "    }\n",
              "</style>\n",
              "<table border=\"1\" class=\"dataframe\">\n",
              "  <thead>\n",
              "    <tr style=\"text-align: right;\">\n",
              "      <th></th>\n",
              "      <th>date</th>\n",
              "      <th>label</th>\n",
              "      <th>adjDividend</th>\n",
              "      <th>dividend</th>\n",
              "      <th>recordDate</th>\n",
              "      <th>paymentDate</th>\n",
              "      <th>declarationDate</th>\n",
              "    </tr>\n",
              "  </thead>\n",
              "  <tbody>\n",
              "    <tr>\n",
              "      <th>0</th>\n",
              "      <td>2022-08-05</td>\n",
              "      <td>August 05, 22</td>\n",
              "      <td>0.23</td>\n",
              "      <td>0.23</td>\n",
              "      <td>2022-08-08</td>\n",
              "      <td>2022-08-11</td>\n",
              "      <td>2022-07-28</td>\n",
              "    </tr>\n",
              "    <tr>\n",
              "      <th>1</th>\n",
              "      <td>2022-05-06</td>\n",
              "      <td>May 06, 22</td>\n",
              "      <td>0.23</td>\n",
              "      <td>0.23</td>\n",
              "      <td>2022-05-09</td>\n",
              "      <td>2022-05-12</td>\n",
              "      <td>2022-04-28</td>\n",
              "    </tr>\n",
              "    <tr>\n",
              "      <th>2</th>\n",
              "      <td>2022-02-04</td>\n",
              "      <td>February 04, 22</td>\n",
              "      <td>0.22</td>\n",
              "      <td>0.22</td>\n",
              "      <td>2022-02-07</td>\n",
              "      <td>2022-02-10</td>\n",
              "      <td>2022-01-27</td>\n",
              "    </tr>\n",
              "  </tbody>\n",
              "</table>\n",
              "</div>\n",
              "      <button class=\"colab-df-convert\" onclick=\"convertToInteractive('df-a272d74d-5a07-4c96-9ad4-3466d3853c74')\"\n",
              "              title=\"Convert this dataframe to an interactive table.\"\n",
              "              style=\"display:none;\">\n",
              "        \n",
              "  <svg xmlns=\"http://www.w3.org/2000/svg\" height=\"24px\"viewBox=\"0 0 24 24\"\n",
              "       width=\"24px\">\n",
              "    <path d=\"M0 0h24v24H0V0z\" fill=\"none\"/>\n",
              "    <path d=\"M18.56 5.44l.94 2.06.94-2.06 2.06-.94-2.06-.94-.94-2.06-.94 2.06-2.06.94zm-11 1L8.5 8.5l.94-2.06 2.06-.94-2.06-.94L8.5 2.5l-.94 2.06-2.06.94zm10 10l.94 2.06.94-2.06 2.06-.94-2.06-.94-.94-2.06-.94 2.06-2.06.94z\"/><path d=\"M17.41 7.96l-1.37-1.37c-.4-.4-.92-.59-1.43-.59-.52 0-1.04.2-1.43.59L10.3 9.45l-7.72 7.72c-.78.78-.78 2.05 0 2.83L4 21.41c.39.39.9.59 1.41.59.51 0 1.02-.2 1.41-.59l7.78-7.78 2.81-2.81c.8-.78.8-2.07 0-2.86zM5.41 20L4 18.59l7.72-7.72 1.47 1.35L5.41 20z\"/>\n",
              "  </svg>\n",
              "      </button>\n",
              "      \n",
              "  <style>\n",
              "    .colab-df-container {\n",
              "      display:flex;\n",
              "      flex-wrap:wrap;\n",
              "      gap: 12px;\n",
              "    }\n",
              "\n",
              "    .colab-df-convert {\n",
              "      background-color: #E8F0FE;\n",
              "      border: none;\n",
              "      border-radius: 50%;\n",
              "      cursor: pointer;\n",
              "      display: none;\n",
              "      fill: #1967D2;\n",
              "      height: 32px;\n",
              "      padding: 0 0 0 0;\n",
              "      width: 32px;\n",
              "    }\n",
              "\n",
              "    .colab-df-convert:hover {\n",
              "      background-color: #E2EBFA;\n",
              "      box-shadow: 0px 1px 2px rgba(60, 64, 67, 0.3), 0px 1px 3px 1px rgba(60, 64, 67, 0.15);\n",
              "      fill: #174EA6;\n",
              "    }\n",
              "\n",
              "    [theme=dark] .colab-df-convert {\n",
              "      background-color: #3B4455;\n",
              "      fill: #D2E3FC;\n",
              "    }\n",
              "\n",
              "    [theme=dark] .colab-df-convert:hover {\n",
              "      background-color: #434B5C;\n",
              "      box-shadow: 0px 1px 3px 1px rgba(0, 0, 0, 0.15);\n",
              "      filter: drop-shadow(0px 1px 2px rgba(0, 0, 0, 0.3));\n",
              "      fill: #FFFFFF;\n",
              "    }\n",
              "  </style>\n",
              "\n",
              "      <script>\n",
              "        const buttonEl =\n",
              "          document.querySelector('#df-a272d74d-5a07-4c96-9ad4-3466d3853c74 button.colab-df-convert');\n",
              "        buttonEl.style.display =\n",
              "          google.colab.kernel.accessAllowed ? 'block' : 'none';\n",
              "\n",
              "        async function convertToInteractive(key) {\n",
              "          const element = document.querySelector('#df-a272d74d-5a07-4c96-9ad4-3466d3853c74');\n",
              "          const dataTable =\n",
              "            await google.colab.kernel.invokeFunction('convertToInteractive',\n",
              "                                                     [key], {});\n",
              "          if (!dataTable) return;\n",
              "\n",
              "          const docLinkHtml = 'Like what you see? Visit the ' +\n",
              "            '<a target=\"_blank\" href=https://colab.research.google.com/notebooks/data_table.ipynb>data table notebook</a>'\n",
              "            + ' to learn more about interactive tables.';\n",
              "          element.innerHTML = '';\n",
              "          dataTable['output_type'] = 'display_data';\n",
              "          await google.colab.output.renderOutput(dataTable, element);\n",
              "          const docLink = document.createElement('div');\n",
              "          docLink.innerHTML = docLinkHtml;\n",
              "          element.appendChild(docLink);\n",
              "        }\n",
              "      </script>\n",
              "    </div>\n",
              "  </div>\n",
              "  "
            ]
          },
          "metadata": {},
          "execution_count": 57
        }
      ]
    },
    {
      "cell_type": "markdown",
      "source": [
        "basic spark"
      ],
      "metadata": {
        "id": "Ff5v4NXs0-Ed"
      }
    },
    {
      "cell_type": "code",
      "source": [
        "\n",
        "columns = [\"language\",\"users_count\"]\n",
        "data = [(\"Java\", \"20000\"), (\"Python\", \"100000\"), (\"Scala\", \"3000\")]\n"
      ],
      "metadata": {
        "id": "DAyiUDEu1ANX"
      },
      "execution_count": 46,
      "outputs": []
    },
    {
      "cell_type": "code",
      "source": [
        "\n",
        "#spark = SparkSession.builder.appName('SparkByExamples.com').getOrCreate()\n",
        "rdd = spark.sparkContext.parallelize(data)\n"
      ],
      "metadata": {
        "id": "-OO98NQY1Gte"
      },
      "execution_count": 48,
      "outputs": []
    },
    {
      "cell_type": "code",
      "source": [
        "\n",
        "dfFromRDD1 = rdd.toDF()\n",
        "dfFromRDD1.printSchema()\n"
      ],
      "metadata": {
        "colab": {
          "base_uri": "https://localhost:8080/"
        },
        "id": "8IWLEIMN1Oqf",
        "outputId": "d5e5438b-0dcc-4c58-b252-622d54384945"
      },
      "execution_count": 49,
      "outputs": [
        {
          "output_type": "stream",
          "name": "stdout",
          "text": [
            "root\n",
            " |-- _1: string (nullable = true)\n",
            " |-- _2: string (nullable = true)\n",
            "\n"
          ]
        }
      ]
    },
    {
      "cell_type": "code",
      "source": [
        "#https://signalfix.net/th/pyspark-collect-%E0%B8%94%E0%B8%B6%E0%B8%87%E0%B8%82%E0%B9%89%E0%B8%AD%E0%B8%A1%E0%B8%B9%E0%B8%A5%E0%B8%88%E0%B8%B2%E0%B8%81-dataframe\n",
        "#ระมัดระวังเรื่อง collect เพราะถ้าเกิดดึงกลับมาแล้วใหญ่เกินหน่วยความจำจะเป็นปัญหา\n",
        "rdd.collect()"
      ],
      "metadata": {
        "colab": {
          "base_uri": "https://localhost:8080/"
        },
        "id": "kU4tjBzD1XVy",
        "outputId": "955c18c5-9a78-4ea0-9089-d9ec720e53d1"
      },
      "execution_count": 52,
      "outputs": [
        {
          "output_type": "execute_result",
          "data": {
            "text/plain": [
              "[('Java', '20000'), ('Python', '100000'), ('Scala', '3000')]"
            ]
          },
          "metadata": {},
          "execution_count": 52
        }
      ]
    },
    {
      "cell_type": "code",
      "source": [],
      "metadata": {
        "id": "YMh6gAAQ1cC3"
      },
      "execution_count": null,
      "outputs": []
    }
  ]
}