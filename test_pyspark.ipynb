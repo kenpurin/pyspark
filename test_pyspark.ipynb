{
  "nbformat": 4,
  "nbformat_minor": 0,
  "metadata": {
    "colab": {
      "name": "test_pyspark.ipynb",
      "provenance": [],
      "collapsed_sections": [],
      "authorship_tag": "ABX9TyM2pPvXrGqPY7IrKMGe4qDw",
      "include_colab_link": true
    },
    "kernelspec": {
      "name": "python3",
      "display_name": "Python 3"
    },
    "language_info": {
      "name": "python"
    }
  },
  "cells": [
    {
      "cell_type": "markdown",
      "metadata": {
        "id": "view-in-github",
        "colab_type": "text"
      },
      "source": [
        "<a href=\"https://colab.research.google.com/github/kenpurin/pyspark/blob/main/test_pyspark.ipynb\" target=\"_parent\"><img src=\"https://colab.research.google.com/assets/colab-badge.svg\" alt=\"Open In Colab\"/></a>"
      ]
    },
    {
      "cell_type": "code",
      "source": [
        "import time"
      ],
      "metadata": {
        "id": "Yp09NYFCqfTw"
      },
      "execution_count": 3,
      "outputs": []
    },
    {
      "cell_type": "code",
      "source": [
        "start_time=time.time()\n",
        "!pip install pyspark\n",
        "print(\"--- %s seconds ---\" %(time.time()-start_time))"
      ],
      "metadata": {
        "colab": {
          "base_uri": "https://localhost:8080/"
        },
        "id": "whGps-Bw8ZuE",
        "outputId": "c94af18e-6017-4b1e-ab87-0a6b2775a630"
      },
      "execution_count": 8,
      "outputs": [
        {
          "output_type": "stream",
          "name": "stdout",
          "text": [
            "Looking in indexes: https://pypi.org/simple, https://us-python.pkg.dev/colab-wheels/public/simple/\n",
            "Requirement already satisfied: pyspark in /usr/local/lib/python3.7/dist-packages (3.3.0)\n",
            "Requirement already satisfied: py4j==0.10.9.5 in /usr/local/lib/python3.7/dist-packages (from pyspark) (0.10.9.5)\n",
            "--- 4.549505710601807 seconds ---\n"
          ]
        }
      ]
    },
    {
      "cell_type": "code",
      "execution_count": 9,
      "metadata": {
        "id": "n1_J1oFG8RC9"
      },
      "outputs": [],
      "source": [
        "from pyspark import SparkContext\n",
        "sc = SparkContext.getOrCreate()"
      ]
    },
    {
      "cell_type": "code",
      "source": [
        "start_time=time.time()\n",
        "from pyspark.sql import SparkSession\n",
        "# ในกรณีที่ไม่มี spark context อยู่ก่อนแล้ว เราก็สร้างใหม่\n",
        "if (sc is None):\n",
        "    sc = SparkContext(master=\"local[*]\")\n",
        "\n",
        "spark = SparkSession(sparkContext=sc)\\\n",
        "        .builder\\\n",
        "        .appName(\"How to Spark\")\\\n",
        "        .config(\"spark.some.config.option\", \"some-value\") \\\n",
        "        .getOrCreate()\n",
        "\n",
        "print(\"--- %s seconds ---\" %(time.time()-start_time))"
      ],
      "metadata": {
        "id": "oOcuNjMd8sV4",
        "colab": {
          "base_uri": "https://localhost:8080/"
        },
        "outputId": "f684b5fc-ec3b-4dd8-cb07-237cc1310e11"
      },
      "execution_count": 10,
      "outputs": [
        {
          "output_type": "stream",
          "name": "stdout",
          "text": [
            "--- 1.5707650184631348 seconds ---\n"
          ]
        }
      ]
    },
    {
      "cell_type": "code",
      "source": [
        "sc"
      ],
      "metadata": {
        "colab": {
          "base_uri": "https://localhost:8080/",
          "height": 196
        },
        "id": "nOEioC1wVwBY",
        "outputId": "efe18a83-51de-4f93-8cb0-a85db42680c1"
      },
      "execution_count": 11,
      "outputs": [
        {
          "output_type": "execute_result",
          "data": {
            "text/plain": [
              "<SparkContext master=local[*] appName=pyspark-shell>"
            ],
            "text/html": [
              "\n",
              "        <div>\n",
              "            <p><b>SparkContext</b></p>\n",
              "\n",
              "            <p><a href=\"http://b24e92f4dccf:4040\">Spark UI</a></p>\n",
              "\n",
              "            <dl>\n",
              "              <dt>Version</dt>\n",
              "                <dd><code>v3.3.0</code></dd>\n",
              "              <dt>Master</dt>\n",
              "                <dd><code>local[*]</code></dd>\n",
              "              <dt>AppName</dt>\n",
              "                <dd><code>pyspark-shell</code></dd>\n",
              "            </dl>\n",
              "        </div>\n",
              "        "
            ]
          },
          "metadata": {},
          "execution_count": 11
        }
      ]
    },
    {
      "cell_type": "code",
      "source": [
        "sc.version"
      ],
      "metadata": {
        "colab": {
          "base_uri": "https://localhost:8080/",
          "height": 36
        },
        "id": "Qr2tZTltVsNI",
        "outputId": "2b79543a-2c3a-4acb-bce9-c456d6ff9079"
      },
      "execution_count": 12,
      "outputs": [
        {
          "output_type": "execute_result",
          "data": {
            "text/plain": [
              "'3.3.0'"
            ],
            "application/vnd.google.colaboratory.intrinsic+json": {
              "type": "string"
            }
          },
          "metadata": {},
          "execution_count": 12
        }
      ]
    },
    {
      "cell_type": "code",
      "source": [
        "#get data test\n",
        "!git clone https://github.com/codeforamerica/ohana-api.git"
      ],
      "metadata": {
        "colab": {
          "base_uri": "https://localhost:8080/"
        },
        "id": "SmLk865l8twZ",
        "outputId": "ae6e3c0c-74ae-4f77-dd28-8d7e3bc1bad9"
      },
      "execution_count": 13,
      "outputs": [
        {
          "output_type": "stream",
          "name": "stdout",
          "text": [
            "Cloning into 'ohana-api'...\n",
            "remote: Enumerating objects: 14334, done.\u001b[K\n",
            "remote: Counting objects: 100% (903/903), done.\u001b[K\n",
            "remote: Compressing objects: 100% (431/431), done.\u001b[K\n",
            "remote: Total 14334 (delta 488), reused 804 (delta 455), pack-reused 13431\u001b[K\n",
            "Receiving objects: 100% (14334/14334), 6.19 MiB | 12.04 MiB/s, done.\n",
            "Resolving deltas: 100% (9575/9575), done.\n"
          ]
        }
      ]
    },
    {
      "cell_type": "code",
      "source": [
        "#/content/ohana-api/data/sample-csv/taxonomy.csv\n",
        "mtcars_rdd = sc.textFile('/content/ohana-api/data/sample-csv/taxonomy.csv')"
      ],
      "metadata": {
        "id": "-uxB5LDJ87uD"
      },
      "execution_count": 14,
      "outputs": []
    },
    {
      "cell_type": "code",
      "source": [
        "start_time=time.time()\n",
        "df = spark.read.csv('/content/ohana-api/data/sample-csv/taxonomy.csv', header=True, inferSchema=True)\n",
        "print(\"--- %s seconds ---\" %(time.time()-start_time))"
      ],
      "metadata": {
        "id": "B_qvhE6J9EzO",
        "colab": {
          "base_uri": "https://localhost:8080/"
        },
        "outputId": "e52aa352-a42f-4d49-8e24-f5dc7a0afe74"
      },
      "execution_count": 15,
      "outputs": [
        {
          "output_type": "stream",
          "name": "stdout",
          "text": [
            "--- 6.870236873626709 seconds ---\n"
          ]
        }
      ]
    },
    {
      "cell_type": "code",
      "source": [
        "df.dtypes"
      ],
      "metadata": {
        "colab": {
          "base_uri": "https://localhost:8080/"
        },
        "id": "E0khenyY9bbO",
        "outputId": "639aefff-0c02-4e9b-cf53-dd00032f4017"
      },
      "execution_count": 16,
      "outputs": [
        {
          "output_type": "execute_result",
          "data": {
            "text/plain": [
              "[('taxonomy_id', 'string'),\n",
              " ('name', 'string'),\n",
              " ('parent_id', 'string'),\n",
              " ('parent_name', 'string')]"
            ]
          },
          "metadata": {},
          "execution_count": 16
        }
      ]
    },
    {
      "cell_type": "code",
      "source": [
        "df.show()"
      ],
      "metadata": {
        "colab": {
          "base_uri": "https://localhost:8080/"
        },
        "id": "QINCgxnJ-UBp",
        "outputId": "837a0e46-d0b8-4ed0-d712-96d44a4aa724"
      },
      "execution_count": 17,
      "outputs": [
        {
          "output_type": "stream",
          "name": "stdout",
          "text": [
            "+-----------+--------------------+---------+----------------+\n",
            "|taxonomy_id|                name|parent_id|     parent_name|\n",
            "+-----------+--------------------+---------+----------------+\n",
            "|        101|           Emergency|     null|            null|\n",
            "|     101-01|   Disaster Response|      101|       Emergency|\n",
            "|     101-02|      Emergency Cash|      101|       Emergency|\n",
            "|  101-02-01|   Help Pay for Food|   101-02|  Emergency Cash|\n",
            "|  101-02-02|Help Pay for Heal...|   101-02|  Emergency Cash|\n",
            "|  101-02-03|Help Pay for Housing|   101-02|  Emergency Cash|\n",
            "|  101-02-04|    Help Pay for Gas|   101-02|  Emergency Cash|\n",
            "|  101-02-05| Help Pay for School|   101-02|  Emergency Cash|\n",
            "|  101-02-06|Help Pay for Util...|   101-02|  Emergency Cash|\n",
            "|     101-03|      Emergency Food|      101|       Emergency|\n",
            "|     101-04|   Emergency Shelter|      101|       Emergency|\n",
            "|     101-05|Help Find Missing...|      101|       Emergency|\n",
            "|     101-06|    Immediate Safety|      101|       Emergency|\n",
            "|  101-06-01|Help Escape Violence|   101-06|Immediate Safety|\n",
            "|  101-06-02|        Safe Housing|   101-06|Immediate Safety|\n",
            "|     101-07|Psychiatric Emerg...|      101|       Emergency|\n",
            "|        102|                Food|     null|            null|\n",
            "|     102-01|   Community Gardens|      102|            Food|\n",
            "|     102-02|      Emergency Food|      102|            Food|\n",
            "|     102-03|       Food Delivery|      102|            Food|\n",
            "+-----------+--------------------+---------+----------------+\n",
            "only showing top 20 rows\n",
            "\n"
          ]
        }
      ]
    },
    {
      "cell_type": "code",
      "source": [
        "df.head(10)"
      ],
      "metadata": {
        "colab": {
          "base_uri": "https://localhost:8080/"
        },
        "id": "Uswwo9la-x9W",
        "outputId": "53e781b1-aa66-4b36-aae4-ffeb59ad430b"
      },
      "execution_count": 18,
      "outputs": [
        {
          "output_type": "execute_result",
          "data": {
            "text/plain": [
              "[Row(taxonomy_id='101', name='Emergency', parent_id=None, parent_name=None),\n",
              " Row(taxonomy_id='101-01', name='Disaster Response', parent_id='101', parent_name='Emergency'),\n",
              " Row(taxonomy_id='101-02', name='Emergency Cash', parent_id='101', parent_name='Emergency'),\n",
              " Row(taxonomy_id='101-02-01', name='Help Pay for Food', parent_id='101-02', parent_name='Emergency Cash'),\n",
              " Row(taxonomy_id='101-02-02', name='Help Pay for Healthcare', parent_id='101-02', parent_name='Emergency Cash'),\n",
              " Row(taxonomy_id='101-02-03', name='Help Pay for Housing', parent_id='101-02', parent_name='Emergency Cash'),\n",
              " Row(taxonomy_id='101-02-04', name='Help Pay for Gas', parent_id='101-02', parent_name='Emergency Cash'),\n",
              " Row(taxonomy_id='101-02-05', name='Help Pay for School', parent_id='101-02', parent_name='Emergency Cash'),\n",
              " Row(taxonomy_id='101-02-06', name='Help Pay for Utilities', parent_id='101-02', parent_name='Emergency Cash'),\n",
              " Row(taxonomy_id='101-03', name='Emergency Food', parent_id='101', parent_name='Emergency')]"
            ]
          },
          "metadata": {},
          "execution_count": 18
        }
      ]
    },
    {
      "cell_type": "code",
      "source": [
        "df.first()"
      ],
      "metadata": {
        "colab": {
          "base_uri": "https://localhost:8080/"
        },
        "id": "iSERskay-1Gx",
        "outputId": "b7976f06-eaa5-4d4b-f968-3d7e8d7d446b"
      },
      "execution_count": 19,
      "outputs": [
        {
          "output_type": "execute_result",
          "data": {
            "text/plain": [
              "Row(taxonomy_id='101', name='Emergency', parent_id=None, parent_name=None)"
            ]
          },
          "metadata": {},
          "execution_count": 19
        }
      ]
    },
    {
      "cell_type": "code",
      "source": [
        "df.take(2)"
      ],
      "metadata": {
        "colab": {
          "base_uri": "https://localhost:8080/"
        },
        "id": "4R4iutIc-4ky",
        "outputId": "a4336d68-f6e0-488c-d73c-cb03b36d1317"
      },
      "execution_count": 20,
      "outputs": [
        {
          "output_type": "execute_result",
          "data": {
            "text/plain": [
              "[Row(taxonomy_id='101', name='Emergency', parent_id=None, parent_name=None),\n",
              " Row(taxonomy_id='101-01', name='Disaster Response', parent_id='101', parent_name='Emergency')]"
            ]
          },
          "metadata": {},
          "execution_count": 20
        }
      ]
    },
    {
      "cell_type": "code",
      "source": [
        "df.printSchema()"
      ],
      "metadata": {
        "colab": {
          "base_uri": "https://localhost:8080/"
        },
        "id": "_TVFRD8p-mpo",
        "outputId": "8f8cbb99-b2f3-40f0-c02c-56b88e7d36c6"
      },
      "execution_count": 21,
      "outputs": [
        {
          "output_type": "stream",
          "name": "stdout",
          "text": [
            "root\n",
            " |-- taxonomy_id: string (nullable = true)\n",
            " |-- name: string (nullable = true)\n",
            " |-- parent_id: string (nullable = true)\n",
            " |-- parent_name: string (nullable = true)\n",
            "\n"
          ]
        }
      ]
    },
    {
      "cell_type": "code",
      "source": [
        "df.describe().show() "
      ],
      "metadata": {
        "colab": {
          "base_uri": "https://localhost:8080/"
        },
        "id": "ZuufVMa0-9sd",
        "outputId": "6a8e9a8b-50d2-44a0-dbb5-213e490c16bf"
      },
      "execution_count": 22,
      "outputs": [
        {
          "output_type": "stream",
          "name": "stdout",
          "text": [
            "+-------+---------------+----------------+------------------+--------------------+\n",
            "|summary|    taxonomy_id|            name|         parent_id|         parent_name|\n",
            "+-------+---------------+----------------+------------------+--------------------+\n",
            "|  count|            290|             290|               279|                 279|\n",
            "|   mean|          106.0|            null|105.86666666666666|                null|\n",
            "| stddev|3.3166247903554|            null| 3.306217392478572|                null|\n",
            "|    min|            101|         12-Step|               101|Addiction & Recovery|\n",
            "|    max|         111-05|Workplace Rights|         111-01-01|                Work|\n",
            "+-------+---------------+----------------+------------------+--------------------+\n",
            "\n"
          ]
        }
      ]
    },
    {
      "cell_type": "code",
      "source": [
        "df.describe(['taxonomy_id']).show()"
      ],
      "metadata": {
        "colab": {
          "base_uri": "https://localhost:8080/"
        },
        "id": "rp6fMHxz_E2W",
        "outputId": "6a081a51-e1f6-4f87-9aa2-e5934c0fe6f3"
      },
      "execution_count": 23,
      "outputs": [
        {
          "output_type": "stream",
          "name": "stdout",
          "text": [
            "+-------+---------------+\n",
            "|summary|    taxonomy_id|\n",
            "+-------+---------------+\n",
            "|  count|            290|\n",
            "|   mean|          106.0|\n",
            "| stddev|3.3166247903554|\n",
            "|    min|            101|\n",
            "|    max|         111-05|\n",
            "+-------+---------------+\n",
            "\n"
          ]
        }
      ]
    },
    {
      "cell_type": "code",
      "source": [
        "df.columns "
      ],
      "metadata": {
        "colab": {
          "base_uri": "https://localhost:8080/"
        },
        "id": "lAWRgOmK_HnL",
        "outputId": "848a1f1a-bbc0-412a-f469-c346c505d575"
      },
      "execution_count": 24,
      "outputs": [
        {
          "output_type": "execute_result",
          "data": {
            "text/plain": [
              "['taxonomy_id', 'name', 'parent_id', 'parent_name']"
            ]
          },
          "metadata": {},
          "execution_count": 24
        }
      ]
    },
    {
      "cell_type": "code",
      "source": [
        "df.count() "
      ],
      "metadata": {
        "colab": {
          "base_uri": "https://localhost:8080/"
        },
        "id": "iqvaDECQ_NxS",
        "outputId": "745ed511-6f82-4b6b-8637-0edce00da975"
      },
      "execution_count": 25,
      "outputs": [
        {
          "output_type": "execute_result",
          "data": {
            "text/plain": [
              "290"
            ]
          },
          "metadata": {},
          "execution_count": 25
        }
      ]
    },
    {
      "cell_type": "code",
      "source": [
        "spark.stop()"
      ],
      "metadata": {
        "id": "A3KDDYvbBBPP"
      },
      "execution_count": 26,
      "outputs": []
    }
  ]
}